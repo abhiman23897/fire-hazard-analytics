{
 "cells": [
  {
   "cell_type": "markdown",
   "metadata": {},
   "source": [
    "# Fire Hazard Incidents Analytics Pipeline\n",
    "## Ignition Loss vs Average Losses in dollars"
   ]
  },
  {
   "cell_type": "markdown",
   "metadata": {},
   "source": [
    "## Importing Required Libraries"
   ]
  },
  {
   "cell_type": "code",
   "execution_count": 1,
   "metadata": {},
   "outputs": [],
   "source": [
    "from pyspark.sql import SparkSession\n",
    "from pyspark.sql import functions as F\n",
    "import matplotlib.pyplot as plt\n",
    "\n",
    "from storedb import save_in_db, IMG_PATH"
   ]
  },
  {
   "cell_type": "markdown",
   "metadata": {},
   "source": [
    "## Creating Spark Session and using all available cores"
   ]
  },
  {
   "cell_type": "code",
   "execution_count": 2,
   "metadata": {},
   "outputs": [
    {
     "name": "stderr",
     "output_type": "stream",
     "text": [
      "Warning: Ignoring non-Spark config property: local[4]\n",
      "Setting default log level to \"WARN\".\n",
      "To adjust logging level use sc.setLogLevel(newLevel). For SparkR, use setLogLevel(newLevel).\n"
     ]
    },
    {
     "name": "stdout",
     "output_type": "stream",
     "text": [
      "22/12/11 20:47:59 WARN NativeCodeLoader: Unable to load native-hadoop library for your platform... using builtin-java classes where applicable\n",
      "22/12/11 20:47:59 WARN Utils: Service 'SparkUI' could not bind on port 4040. Attempting port 4041.\n",
      "22/12/11 20:47:59 WARN Utils: Service 'SparkUI' could not bind on port 4041. Attempting port 4042.\n",
      "22/12/11 20:47:59 WARN Utils: Service 'SparkUI' could not bind on port 4042. Attempting port 4043.\n",
      "22/12/11 20:47:59 WARN Utils: Service 'SparkUI' could not bind on port 4043. Attempting port 4044.\n",
      "CPU times: user 21.4 ms, sys: 27.3 ms, total: 48.8 ms\n",
      "Wall time: 2.36 s\n"
     ]
    }
   ],
   "source": [
    "%%time\n",
    "spark = SparkSession \\\n",
    "    .builder \\\n",
    "    .appName(\"532: Project\") \\\n",
    "    .config(\"local[4]\") \\\n",
    "    .getOrCreate()"
   ]
  },
  {
   "cell_type": "markdown",
   "metadata": {},
   "source": [
    "## Loading firefighter casuality and basic module data"
   ]
  },
  {
   "cell_type": "code",
   "execution_count": 3,
   "metadata": {},
   "outputs": [
    {
     "name": "stdout",
     "output_type": "stream",
     "text": [
      "CPU times: user 3.66 ms, sys: 3.01 ms, total: 6.67 ms\n",
      "Wall time: 2.86 s\n"
     ]
    }
   ],
   "source": [
    "%%time\n",
    "basic_module_df = spark.read.options(delimiter=\"^\", header=True).csv(\"basicincident.txt\")\n",
    "fire_incidents_df = spark.read.options(delimiter=\"^\", header=True).csv(\"fireincident.txt\")"
   ]
  },
  {
   "cell_type": "code",
   "execution_count": 4,
   "metadata": {},
   "outputs": [
    {
     "name": "stdout",
     "output_type": "stream",
     "text": [
      "CPU times: user 5.73 ms, sys: 3.97 ms, total: 9.7 ms\n",
      "Wall time: 96.4 ms\n"
     ]
    }
   ],
   "source": [
    "%%time\n",
    "# Dropping null values in loss tables and finding total loss\n",
    "basic_module_df = basic_module_df.na.drop(subset=(\"PROP_LOSS\",\"CONT_LOSS\"))\n",
    "total_loss = basic_module_df.groupBy(\"INCIDENT_KEY\").agg(F.sum(basic_module_df.PROP_LOSS + basic_module_df.CONT_LOSS).alias(\"TOTAL_LOSS\"))"
   ]
  },
  {
   "cell_type": "code",
   "execution_count": 5,
   "metadata": {},
   "outputs": [
    {
     "name": "stderr",
     "output_type": "stream",
     "text": [
      "[Stage 5:>                                                          (0 + 8) / 8]\r"
     ]
    },
    {
     "name": "stdout",
     "output_type": "stream",
     "text": [
      "CPU times: user 264 ms, sys: 83 ms, total: 347 ms\n",
      "Wall time: 6.74 s\n"
     ]
    },
    {
     "name": "stderr",
     "output_type": "stream",
     "text": [
      "\r",
      "                                                                                \r"
     ]
    }
   ],
   "source": [
    "%%time\n",
    "ignition_cause = fire_incidents_df.na.drop(subset=(\"CAUSE_IGN\"))\n",
    "\n",
    "ignition_cause_vs_loss = total_loss.join(ignition_cause, total_loss.INCIDENT_KEY == ignition_cause.INCIDENT_KEY)\n",
    "cause_loss_df = ignition_cause_vs_loss.groupBy(\"CAUSE_IGN\").agg(F.sum(\"TOTAL_LOSS\").alias(\"DLR_LOSS\"))\n",
    "p_cause_loss_df = cause_loss_df.toPandas()\n",
    "p_cause_loss_df[\"DLR_LOSS\"] = p_cause_loss_df[\"DLR_LOSS\"]/1e09"
   ]
  },
  {
   "cell_type": "code",
   "execution_count": 6,
   "metadata": {},
   "outputs": [
    {
     "name": "stdout",
     "output_type": "stream",
     "text": [
      "CPU times: user 82.5 ms, sys: 29.6 ms, total: 112 ms\n",
      "Wall time: 136 ms\n"
     ]
    },
    {
     "data": {
      "image/png": "[encoded data removed]",
      "text/plain": [
       "<Figure size 432x288 with 1 Axes>"
      ]
     },
     "metadata": {
      "needs_background": "light"
     },
     "output_type": "display_data"
    }
   ],
   "source": [
    "%%time\n",
    "p5 = p_cause_loss_df.sort_values(by=\"CAUSE_IGN\").plot(x=\"CAUSE_IGN\", y=\"DLR_LOSS\", xlabel=\"Ignition Cause\", ylabel = \"Total loss in billion $\", kind=\"bar\", legend = False)\n",
    "fig5 = p5.get_figure()\n",
    "fig_name = \"ign_cause_dollar_loss.png\"\n",
    "fig5.savefig(f\"{IMG_PATH}{fig_name}\")\n",
    "\n",
    "# saving to db\n",
    "save_in_db(fig_name, \"ignition_cause_vs_dollar_losses\")\n"
   ]
  },
  {
   "cell_type": "code",
   "execution_count": null,
   "metadata": {},
   "outputs": [],
   "source": []
  }
 ],
 "metadata": {
  "kernelspec": {
   "display_name": "Python 3 (ipykernel)",
   "language": "python",
   "name": "python3"
  },
  "language_info": {
   "codemirror_mode": {
    "name": "ipython",
    "version": 3
   },
   "file_extension": ".py",
   "mimetype": "text/x-python",
   "name": "python",
   "nbconvert_exporter": "python",
   "pygments_lexer": "ipython3",
   "version": "3.9.12"
  },
  "vscode": {
   "interpreter": {
    "hash": "b9c0864c2c82c846553bd2c7001efc514f6abb49eba1568752f97689e9c7c0e4"
   }
  }
 },
 "nbformat": 4,
 "nbformat_minor": 2
}
