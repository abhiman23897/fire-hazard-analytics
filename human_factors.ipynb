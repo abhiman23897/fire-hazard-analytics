{
 "cells": [
  {
   "cell_type": "markdown",
   "metadata": {},
   "source": [
    "# Fire Hazard Incidents Analytics Pipeline\n",
    "## Human Factors vs Count"
   ]
  },
  {
   "cell_type": "markdown",
   "metadata": {},
   "source": [
    "## Importing Required Libraries"
   ]
  },
  {
   "cell_type": "code",
   "execution_count": 6,
   "metadata": {},
   "outputs": [],
   "source": [
    "from pyspark.sql import SparkSession\n",
    "from pyspark.sql import functions as F\n",
    "import matplotlib.pyplot as plt\n",
    "\n",
    "from storedb import save_in_db, IMG_PATH"
   ]
  },
  {
   "cell_type": "markdown",
   "metadata": {},
   "source": [
    "## Creating Spark Session and using all available cores"
   ]
  },
  {
   "cell_type": "code",
   "execution_count": 7,
   "metadata": {},
   "outputs": [
    {
     "name": "stdout",
     "output_type": "stream",
     "text": [
      "CPU times: user 2.94 ms, sys: 3.52 ms, total: 6.46 ms\n",
      "Wall time: 21 ms\n"
     ]
    }
   ],
   "source": [
    "%%time\n",
    "spark = SparkSession \\\n",
    "    .builder \\\n",
    "    .appName(\"532: Project\") \\\n",
    "    .config(\"local[4]\") \\\n",
    "    .getOrCreate()"
   ]
  },
  {
   "cell_type": "markdown",
   "metadata": {},
   "source": [
    "## Loading EMS data"
   ]
  },
  {
   "cell_type": "code",
   "execution_count": 8,
   "metadata": {},
   "outputs": [
    {
     "name": "stdout",
     "output_type": "stream",
     "text": [
      "CPU times: user 3.1 ms, sys: 2.24 ms, total: 5.34 ms\n",
      "Wall time: 381 ms\n"
     ]
    }
   ],
   "source": [
    "%%time\n",
    "basic_module_df = spark.read.options(delimiter=\"^\", header=True).csv(\"basicincident.txt\")\n",
    "ems_df = spark.read.options(delimiter=\"^\", header=True).csv(\"ems.txt\")"
   ]
  },
  {
   "cell_type": "code",
   "execution_count": 9,
   "metadata": {},
   "outputs": [
    {
     "name": "stdout",
     "output_type": "stream",
     "text": [
      "CPU times: user 6.14 ms, sys: 3.38 ms, total: 9.51 ms\n",
      "Wall time: 65 ms\n"
     ]
    }
   ],
   "source": [
    "%%time\n",
    "ems_df_combine = ems_df.select(F.explode(F.array(ems_df.HUM_FACT1, ems_df.HUM_FACT2, ems_df.HUM_FACT3, ems_df.HUM_FACT4, ems_df.HUM_FACT5, ems_df.HUM_FACT6, ems_df.HUM_FACT7, ems_df.HUM_FACT8)).alias(\"HumanFactors\"))\n",
    "ems_df_comb_na = ems_df_combine.na.drop(subset=(\"HumanFactors\"))\n",
    "\n",
    "ems_df_comb_na = ems_df_comb_na.filter(ems_df_comb_na.HumanFactors != \"N\")\n",
    "ems_df_comb_na = ems_df_comb_na.groupBy(\"HumanFactors\").count()\n"
   ]
  },
  {
   "cell_type": "code",
   "execution_count": 10,
   "metadata": {},
   "outputs": [
    {
     "name": "stdout",
     "output_type": "stream",
     "text": [
      "CPU times: user 269 ms, sys: 112 ms, total: 381 ms\n",
      "Wall time: 863 ms\n"
     ]
    }
   ],
   "source": [
    "%%time\n",
    "p_ems_df = ems_df_comb_na.toPandas()"
   ]
  },
  {
   "cell_type": "code",
   "execution_count": 16,
   "metadata": {},
   "outputs": [
    {
     "name": "stdout",
     "output_type": "stream",
     "text": [
      "CPU times: user 64.6 ms, sys: 7.6 ms, total: 72.2 ms\n",
      "Wall time: 114 ms\n"
     ]
    },
    {
     "data": {
      "image/png": "[encoded data removed]",
      "text/plain": [
       "<Figure size 576x360 with 1 Axes>"
      ]
     },
     "metadata": {
      "needs_background": "light"
     },
     "output_type": "display_data"
    }
   ],
   "source": [
    "%%time\n",
    "p_ems_df = ems_df_comb_na.toPandas()\n",
    "\n",
    "ptest = p_ems_df.sort_values(by=\"HumanFactors\").plot(x=\"HumanFactors\", y=\"count\", xlabel=\"Human Factors\", ylabel = \"Number of Fire Incidents\", legend = False, kind=\"bar\", ylim=(0,40),figsize=(8,5))\n",
    "\n",
    "fig_name = \"human_factors_number.png\"\n",
    "fig1 = ptest.get_figure()\n",
    "fig1.savefig(f\"{IMG_PATH}{fig_name}\")\n",
    "\n",
    "# saving to db\n",
    "save_in_db(fig_name, \"relative_humid_fires\")\n"
   ]
  },
  {
   "cell_type": "code",
   "execution_count": null,
   "metadata": {},
   "outputs": [],
   "source": []
  }
 ],
 "metadata": {
  "kernelspec": {
   "display_name": "Python 3 (ipykernel)",
   "language": "python",
   "name": "python3"
  },
  "language_info": {
   "codemirror_mode": {
    "name": "ipython",
    "version": 3
   },
   "file_extension": ".py",
   "mimetype": "text/x-python",
   "name": "python",
   "nbconvert_exporter": "python",
   "pygments_lexer": "ipython3",
   "version": "3.9.12"
  },
  "vscode": {
   "interpreter": {
    "hash": "b9c0864c2c82c846553bd2c7001efc514f6abb49eba1568752f97689e9c7c0e4"
   }
  }
 },
 "nbformat": 4,
 "nbformat_minor": 2
}
