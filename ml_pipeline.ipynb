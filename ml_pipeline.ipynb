{
 "cells": [
  {
   "cell_type": "markdown",
   "metadata": {},
   "source": [
    "# Fire Hazard Incidents Analytics Pipeline"
   ]
  },
  {
   "cell_type": "markdown",
   "metadata": {},
   "source": [
    "## Importing Required Libraries"
   ]
  },
  {
   "cell_type": "code",
   "execution_count": 1,
   "metadata": {},
   "outputs": [],
   "source": [
    "from pyspark.sql import SparkSession\n",
    "from pyspark.sql import functions as F\n",
    "from pyspark.ml.regression import LinearRegression\n",
    "from pyspark.ml.evaluation import RegressionEvaluator\n",
    "from pyspark.ml.feature import VectorAssembler\n",
    "from pyspark.ml.linalg import Vectors\n",
    "\n",
    "import numpy as np\n",
    "import matplotlib.pyplot as plt"
   ]
  },
  {
   "attachments": {},
   "cell_type": "markdown",
   "metadata": {},
   "source": [
    "## Creating Spark Session"
   ]
  },
  {
   "cell_type": "code",
   "execution_count": 2,
   "metadata": {},
   "outputs": [],
   "source": [
    "spark = SparkSession \\\n",
    "    .builder \\\n",
    "    .appName(\"532: Project\") \\\n",
    "    .config(\"local[4]\") \\\n",
    "    .getOrCreate()"
   ]
  },
  {
   "attachments": {},
   "cell_type": "markdown",
   "metadata": {},
   "source": [
    "## Loading basic module data"
   ]
  },
  {
   "cell_type": "code",
   "execution_count": 3,
   "metadata": {},
   "outputs": [],
   "source": [
    "basic_module_df = spark.read.options(delimiter=\"^\", header=True).csv(\"basicincident.txt\")"
   ]
  },
  {
   "cell_type": "code",
   "execution_count": 4,
   "metadata": {},
   "outputs": [],
   "source": [
    "# Dropping null values in loss tables and finding total loss\n",
    "basic_module_df = basic_module_df.na.drop(subset=(\"PROP_LOSS\",\"CONT_LOSS\"))"
   ]
  },
  {
   "cell_type": "code",
   "execution_count": 5,
   "metadata": {},
   "outputs": [],
   "source": [
    "# Formatting datetime columns\n",
    "basic_time_module_df = basic_module_df.withColumn(\"ALARM_TIME\", F.to_timestamp(\"ALARM\",\"MMddyyyyHHmm\")).withColumn(\"CONT_TIME\", F.to_timestamp(\"INC_CONT\",\"MMddyyyyHHmm\")).withColumn(\"ARV_TIME\", F.to_timestamp(\"ARRIVAL\",\"MMddyyyyHHmm\"))"
   ]
  },
  {
   "cell_type": "code",
   "execution_count": 6,
   "metadata": {},
   "outputs": [],
   "source": [
    "# Finding total fire time\n",
    "total_fire_time_df = basic_time_module_df.withColumn(\"TOTAL_FIRE_TIME\", basic_time_module_df.CONT_TIME.cast(\"long\") - basic_time_module_df.ALARM_TIME.cast(\"long\"))"
   ]
  },
  {
   "cell_type": "code",
   "execution_count": 7,
   "metadata": {},
   "outputs": [],
   "source": [
    "# Removing non-sensical data\n",
    "time_loss_predict_df = total_fire_time_df.na.drop(subset=([\"TOTAL_FIRE_TIME\",\"CONT_LOSS\"])).filter(total_fire_time_df.TOTAL_FIRE_TIME>0).filter(total_fire_time_df.CONT_LOSS>0).select([\"TOTAL_FIRE_TIME\",\"CONT_LOSS\"]).groupBy(\"TOTAL_FIRE_TIME\").agg(F.avg(\"CONT_LOSS\").alias(\"AVG_LOSS\"))\n"
   ]
  },
  {
   "cell_type": "code",
   "execution_count": 8,
   "metadata": {},
   "outputs": [
    {
     "data": {
      "text/plain": [
       "0.7376856891210598"
      ]
     },
     "execution_count": 8,
     "metadata": {},
     "output_type": "execute_result"
    }
   ],
   "source": [
    "# Checking linear correlation between input and output\n",
    "test2 = time_loss_predict_df.toPandas().astype('float')\n",
    "test2[\"TOTAL_FIRE_TIME\"].corr(test2[\"AVG_LOSS\"])"
   ]
  },
  {
   "cell_type": "code",
   "execution_count": 9,
   "metadata": {},
   "outputs": [],
   "source": [
    "# Adding higher order columns for better predictions\n",
    "time_loss_predict_df = time_loss_predict_df.select(\"*\", F.pow(\"TOTAL_FIRE_TIME\", 2).alias(\"time_square\")).select(\"*\", F.pow(\"TOTAL_FIRE_TIME\", 3).alias(\"time_cube\")).select(\"*\", F.pow(\"TOTAL_FIRE_TIME\", 4).alias(\"time_four\"))"
   ]
  },
  {
   "cell_type": "code",
   "execution_count": 10,
   "metadata": {},
   "outputs": [],
   "source": [
    "# Creating input vector for model\n",
    "assembler = VectorAssembler(inputCols=[\"TOTAL_FIRE_TIME\",\"time_square\",\"time_cube\",\"time_four\"], \n",
    "                            outputCol=\"features\")\n",
    "myGraph_vector = assembler.transform(time_loss_predict_df).select([\"features\",\"AVG_LOSS\"])"
   ]
  },
  {
   "cell_type": "code",
   "execution_count": 21,
   "metadata": {},
   "outputs": [],
   "source": [
    "splits = myGraph_vector.randomSplit([0.8, 0.2])\n",
    "train_df = splits[0]\n",
    "test_df = splits[1]"
   ]
  },
  {
   "cell_type": "code",
   "execution_count": 22,
   "metadata": {},
   "outputs": [],
   "source": [
    "lr = LinearRegression(featuresCol = 'features', labelCol='AVG_LOSS', maxIter=1000, regParam=0.3)"
   ]
  },
  {
   "cell_type": "code",
   "execution_count": 23,
   "metadata": {},
   "outputs": [
    {
     "name": "stdout",
     "output_type": "stream",
     "text": [
      "Coefficients: [-7.964791505678384,1.0219886208177624e-05,-2.022784364233064e-12,1.1027416401387721e-19]\n",
      "Intercept: 380493.6335430327\n"
     ]
    }
   ],
   "source": [
    "lr_model = lr.fit(train_df)\n",
    "print(\"Coefficients: \" + str(lr_model.coefficients))\n",
    "print(\"Intercept: \" + str(lr_model.intercept))"
   ]
  },
  {
   "cell_type": "code",
   "execution_count": 24,
   "metadata": {},
   "outputs": [
    {
     "name": "stdout",
     "output_type": "stream",
     "text": [
      "RMSE: 2210734.310245\n",
      "r2: 0.604632\n"
     ]
    }
   ],
   "source": [
    "trainingSummary = lr_model.summary\n",
    "print(\"RMSE: %f\" % trainingSummary.rootMeanSquaredError)\n",
    "print(\"r2: %f\" % trainingSummary.r2)"
   ]
  },
  {
   "cell_type": "code",
   "execution_count": 25,
   "metadata": {},
   "outputs": [
    {
     "name": "stdout",
     "output_type": "stream",
     "text": [
      "+-------+-----------------+\n",
      "|summary|         AVG_LOSS|\n",
      "+-------+-----------------+\n",
      "|  count|              541|\n",
      "|   mean|465016.5789125834|\n",
      "| stddev|3519149.880837068|\n",
      "|    min|              1.0|\n",
      "|    max|           5.04E7|\n",
      "+-------+-----------------+\n",
      "\n"
     ]
    }
   ],
   "source": [
    "train_df.describe().show()"
   ]
  },
  {
   "cell_type": "code",
   "execution_count": 26,
   "metadata": {},
   "outputs": [
    {
     "name": "stdout",
     "output_type": "stream",
     "text": [
      "+------------------+--------------------+------------------+\n",
      "|        prediction|            features|          AVG_LOSS|\n",
      "+------------------+--------------------+------------------+\n",
      "| 375241.3223501957|[660.0,435600.0,2...| 3133.033579583613|\n",
      "|  374764.280892984|[720.0,518400.0,3...| 9646.496527777777|\n",
      "| 371903.5766441975|[1080.0,1166400.0...| 11108.69869402985|\n",
      "|370950.59687721566|[1200.0,1440000.0...|10170.220077220078|\n",
      "| 369997.9112332618|[1320.0,1742400.0...|11325.771871539313|\n",
      "+------------------+--------------------+------------------+\n",
      "only showing top 5 rows\n",
      "\n",
      "R Squared (R2) on test data = 0.775414\n"
     ]
    }
   ],
   "source": [
    "lr_predictions = lr_model.transform(test_df)\n",
    "lr_predictions.filter(lr_predictions.prediction>0).select(\"prediction\",\"features\",\"AVG_LOSS\").show(5)\n",
    "lr_evaluator = RegressionEvaluator(predictionCol=\"prediction\", \\\n",
    "                 labelCol=\"AVG_LOSS\",metricName=\"r2\")\n",
    "print(\"R Squared (R2) on test data = %g\" % lr_evaluator.evaluate(lr_predictions))"
   ]
  },
  {
   "cell_type": "code",
   "execution_count": 27,
   "metadata": {},
   "outputs": [],
   "source": [
    "train_pd = time_loss_predict_df.select([\"TOTAL_FIRE_TIME\",\"AVG_LOSS\"]).toPandas()"
   ]
  },
  {
   "cell_type": "code",
   "execution_count": 28,
   "metadata": {},
   "outputs": [],
   "source": [
    "tp1 = np.linspace(0,max(train_pd[\"TOTAL_FIRE_TIME\"]),1000).reshape((1000,1))\n",
    "tp2 = tp1**2\n",
    "tp3 = tp1**3\n",
    "tp4 = tp1**4\n",
    "test_predict = np.hstack((tp1,tp2,tp3,tp4))"
   ]
  },
  {
   "cell_type": "code",
   "execution_count": 29,
   "metadata": {},
   "outputs": [],
   "source": [
    "results = []\n",
    "\n",
    "for i in range(1000):\n",
    "    results.append(lr_model.predict(Vectors.dense(test_predict[i,:])))"
   ]
  },
  {
   "cell_type": "code",
   "execution_count": 30,
   "metadata": {},
   "outputs": [
    {
     "data": {
      "image/png": "[encoded data removed]",
      "text/plain": [
       "<Figure size 640x480 with 1 Axes>"
      ]
     },
     "metadata": {},
     "output_type": "display_data"
    }
   ],
   "source": [
    "plt.scatter(train_pd[\"TOTAL_FIRE_TIME\"],train_pd[\"AVG_LOSS\"], label = \"Training Data\")\n",
    "plt.plot(tp1, results, color = \"r\", label = \"Prediction\")\n",
    "plt.legend()\n",
    "plt.xlabel(\"Total fire time (in s)\")\n",
    "plt.ylabel(\"Average loss in $\")\n",
    "# plt.xlim(0,100000)\n",
    "# plt.ylim(0,1000000)\n",
    "plt.savefig(\"lr_model1.png\")\n",
    "plt.show()"
   ]
  }
 ],
 "metadata": {
  "kernelspec": {
   "display_name": "Python 3 (ipykernel)",
   "language": "python",
   "name": "python3"
  },
  "language_info": {
   "codemirror_mode": {
    "name": "ipython",
    "version": 3
   },
   "file_extension": ".py",
   "mimetype": "text/x-python",
   "name": "python",
   "nbconvert_exporter": "python",
   "pygments_lexer": "ipython3",
   "version": "3.10.9"
  },
  "vscode": {
   "interpreter": {
    "hash": "b9c0864c2c82c846553bd2c7001efc514f6abb49eba1568752f97689e9c7c0e4"
   }
  }
 },
 "nbformat": 4,
 "nbformat_minor": 2
}
