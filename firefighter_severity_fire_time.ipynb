{
 "cells": [
  {
   "cell_type": "markdown",
   "metadata": {},
   "source": [
    "# Fire Hazard Incidents Analytics Pipeline\n",
    "## Firefighter Severity vs Time taken to control Fire"
   ]
  },
  {
   "cell_type": "markdown",
   "metadata": {},
   "source": [
    "## Importing Required Libraries"
   ]
  },
  {
   "cell_type": "code",
   "execution_count": 1,
   "metadata": {},
   "outputs": [],
   "source": [
    "from pyspark.sql import SparkSession\n",
    "from pyspark.sql import functions as F\n",
    "import matplotlib.pyplot as plt\n",
    "\n",
    "from storedb import save_in_db, IMG_PATH"
   ]
  },
  {
   "cell_type": "markdown",
   "metadata": {},
   "source": [
    "## Creating Spark Session and using all available cores"
   ]
  },
  {
   "cell_type": "code",
   "execution_count": 2,
   "metadata": {},
   "outputs": [
    {
     "name": "stderr",
     "output_type": "stream",
     "text": [
      "Warning: Ignoring non-Spark config property: local[4]\n",
      "Setting default log level to \"WARN\".\n",
      "To adjust logging level use sc.setLogLevel(newLevel). For SparkR, use setLogLevel(newLevel).\n"
     ]
    },
    {
     "name": "stdout",
     "output_type": "stream",
     "text": [
      "22/12/11 20:43:03 WARN NativeCodeLoader: Unable to load native-hadoop library for your platform... using builtin-java classes where applicable\n",
      "22/12/11 20:43:04 WARN Utils: Service 'SparkUI' could not bind on port 4040. Attempting port 4041.\n",
      "22/12/11 20:43:04 WARN Utils: Service 'SparkUI' could not bind on port 4041. Attempting port 4042.\n",
      "22/12/11 20:43:04 WARN Utils: Service 'SparkUI' could not bind on port 4042. Attempting port 4043.\n",
      "CPU times: user 19.3 ms, sys: 22.1 ms, total: 41.4 ms\n",
      "Wall time: 2.29 s\n"
     ]
    }
   ],
   "source": [
    "%%time\n",
    "spark = SparkSession \\\n",
    "    .builder \\\n",
    "    .appName(\"532: Project\") \\\n",
    "    .config(\"local[4]\") \\\n",
    "    .getOrCreate()"
   ]
  },
  {
   "cell_type": "markdown",
   "metadata": {},
   "source": [
    "## Loading firefighter casuality and basic module data"
   ]
  },
  {
   "cell_type": "code",
   "execution_count": 3,
   "metadata": {},
   "outputs": [
    {
     "name": "stdout",
     "output_type": "stream",
     "text": [
      "CPU times: user 3.97 ms, sys: 2.91 ms, total: 6.89 ms\n",
      "Wall time: 2.92 s\n"
     ]
    }
   ],
   "source": [
    "%%time\n",
    "firefighter_casualities_df = spark.read.options(delimiter=\"^\", header=True).csv(\"ffcasualty.txt\")\n",
    "basic_module_df = spark.read.options(delimiter=\"^\", header=True).csv(\"basicincident.txt\")"
   ]
  },
  {
   "cell_type": "code",
   "execution_count": 4,
   "metadata": {},
   "outputs": [
    {
     "name": "stdout",
     "output_type": "stream",
     "text": [
      "CPU times: user 3.99 ms, sys: 2.23 ms, total: 6.23 ms\n",
      "Wall time: 93.8 ms\n"
     ]
    }
   ],
   "source": [
    "%%time\n",
    "# Formatting datetime columns\n",
    "basic_time_module_df = basic_module_df.withColumn(\"ALARM_TIME\", F.to_timestamp(\"ALARM\",\"MMddyyyyHHmm\")).withColumn(\"CONT_TIME\", F.to_timestamp(\"INC_CONT\",\"MMddyyyyHHmm\")).withColumn(\"ARV_TIME\", F.to_timestamp(\"ARRIVAL\",\"MMddyyyyHHmm\"))"
   ]
  },
  {
   "cell_type": "code",
   "execution_count": 5,
   "metadata": {},
   "outputs": [
    {
     "name": "stderr",
     "output_type": "stream",
     "text": [
      "\r",
      "[Stage 3:>                                                          (0 + 8) / 8]\r"
     ]
    },
    {
     "name": "stdout",
     "output_type": "stream",
     "text": [
      "CPU times: user 258 ms, sys: 78.4 ms, total: 336 ms\n",
      "Wall time: 4.29 s\n"
     ]
    },
    {
     "name": "stderr",
     "output_type": "stream",
     "text": [
      "\r",
      "                                                                                \r"
     ]
    }
   ],
   "source": [
    "%%time\n",
    "# Finding Firefighter Casualty vs. Total Fire Time(in seconds)\n",
    "ff_response_time = basic_time_module_df.withColumn(\"FF_RESPONSE_TIME\", basic_time_module_df.CONT_TIME.cast(\"long\") - basic_time_module_df.ARV_TIME.cast(\"long\"))\n",
    "ff_severity_response_time = ff_response_time.join(firefighter_casualities_df, ff_response_time.INCIDENT_KEY == firefighter_casualities_df.INCIDENT_KEY)\n",
    "ffrt_df = ff_severity_response_time.groupBy(\"SEVERITY\").agg(F.avg(\"FF_RESPONSE_TIME\").alias(\"AVG_RSP_TIME\"))\n",
    "p_ffrt_df = ffrt_df.toPandas()\n",
    "p_ffrt_df[\"AVG_RSP_TIME\"] = p_ffrt_df[\"AVG_RSP_TIME\"]/3600"
   ]
  },
  {
   "cell_type": "code",
   "execution_count": 7,
   "metadata": {},
   "outputs": [
    {
     "name": "stdout",
     "output_type": "stream",
     "text": [
      "CPU times: user 73.9 ms, sys: 16.9 ms, total: 90.8 ms\n",
      "Wall time: 88.5 ms\n"
     ]
    },
    {
     "data": {
      "image/png": "[encoded data removed]",
      "text/plain": [
       "<Figure size 432x288 with 1 Axes>"
      ]
     },
     "metadata": {
      "needs_background": "light"
     },
     "output_type": "display_data"
    }
   ],
   "source": [
    "%%time\n",
    "p4 = p_ffrt_df.drop([3]).sort_values(by=\"SEVERITY\").plot(x=\"SEVERITY\", y=\"AVG_RSP_TIME\", xlabel=\"Firefighter Severity\", ylabel = \"Average time taken to control fire (in hours)\", kind=\"bar\", legend = False)\n",
    "fig4 = p4.get_figure()\n",
    "fig_name = \"ff_fire_time.png\"\n",
    "fig4.savefig(f\"{IMG_PATH}{fig_name}\")\n",
    "\n",
    "# saving to db\n",
    "save_in_db(fig_name, \"firefighter_severity_vs_fire_time\")"
   ]
  },
  {
   "cell_type": "code",
   "execution_count": null,
   "metadata": {},
   "outputs": [],
   "source": []
  }
 ],
 "metadata": {
  "kernelspec": {
   "display_name": "Python 3 (ipykernel)",
   "language": "python",
   "name": "python3"
  },
  "language_info": {
   "codemirror_mode": {
    "name": "ipython",
    "version": 3
   },
   "file_extension": ".py",
   "mimetype": "text/x-python",
   "name": "python",
   "nbconvert_exporter": "python",
   "pygments_lexer": "ipython3",
   "version": "3.9.12"
  },
  "vscode": {
   "interpreter": {
    "hash": "b9c0864c2c82c846553bd2c7001efc514f6abb49eba1568752f97689e9c7c0e4"
   }
  }
 },
 "nbformat": 4,
 "nbformat_minor": 2
}
