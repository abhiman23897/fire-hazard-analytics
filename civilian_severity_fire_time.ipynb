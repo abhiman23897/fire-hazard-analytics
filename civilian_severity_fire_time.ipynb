{
 "cells": [
  {
   "cell_type": "markdown",
   "metadata": {},
   "source": [
    "# Fire Hazard Incidents Analytics Pipeline\n",
    "## Civilian Severity vs Time taken to control Fire"
   ]
  },
  {
   "cell_type": "markdown",
   "metadata": {},
   "source": [
    "## Importing Required Libraries"
   ]
  },
  {
   "cell_type": "code",
   "execution_count": 1,
   "metadata": {},
   "outputs": [],
   "source": [
    "from pyspark.sql import SparkSession\n",
    "from pyspark.sql import functions as F\n",
    "import matplotlib.pyplot as plt\n",
    "\n",
    "from storedb import save_in_db, IMG_PATH"
   ]
  },
  {
   "cell_type": "markdown",
   "metadata": {},
   "source": [
    "## Creating Spark Session and using all available cores"
   ]
  },
  {
   "cell_type": "code",
   "execution_count": 2,
   "metadata": {},
   "outputs": [
    {
     "name": "stderr",
     "output_type": "stream",
     "text": [
      "Warning: Ignoring non-Spark config property: local[4]\n"
     ]
    },
    {
     "name": "stdout",
     "output_type": "stream",
     "text": [
      "22/12/11 20:39:11 WARN Utils: Your hostname, Janhvis-MacBook-Air.local resolves to a loopback address: 127.0.0.1; using 192.168.1.109 instead (on interface en0)\n",
      "22/12/11 20:39:11 WARN Utils: Set SPARK_LOCAL_IP if you need to bind to another address\n"
     ]
    },
    {
     "name": "stderr",
     "output_type": "stream",
     "text": [
      "Setting default log level to \"WARN\".\n",
      "To adjust logging level use sc.setLogLevel(newLevel). For SparkR, use setLogLevel(newLevel).\n"
     ]
    },
    {
     "name": "stdout",
     "output_type": "stream",
     "text": [
      "22/12/11 20:39:12 WARN NativeCodeLoader: Unable to load native-hadoop library for your platform... using builtin-java classes where applicable\n",
      "22/12/11 20:39:12 WARN Utils: Service 'SparkUI' could not bind on port 4040. Attempting port 4041.\n",
      "22/12/11 20:39:12 WARN Utils: Service 'SparkUI' could not bind on port 4041. Attempting port 4042.\n",
      "CPU times: user 19.8 ms, sys: 21.4 ms, total: 41.2 ms\n",
      "Wall time: 2.4 s\n"
     ]
    }
   ],
   "source": [
    "%%time\n",
    "spark = SparkSession \\\n",
    "    .builder \\\n",
    "    .appName(\"532: Project\") \\\n",
    "    .config(\"local[4]\") \\\n",
    "    .getOrCreate()"
   ]
  },
  {
   "cell_type": "markdown",
   "metadata": {},
   "source": [
    "## Loading civilian casuality and basic module data"
   ]
  },
  {
   "cell_type": "code",
   "execution_count": 3,
   "metadata": {},
   "outputs": [
    {
     "name": "stdout",
     "output_type": "stream",
     "text": [
      "CPU times: user 3.54 ms, sys: 2.71 ms, total: 6.24 ms\n",
      "Wall time: 2.8 s\n"
     ]
    }
   ],
   "source": [
    "%%time\n",
    "civilian_casualities_df = spark.read.options(delimiter=\"^\", header=True).csv(\"civiliancasualty.txt\")\n",
    "basic_module_df = spark.read.options(delimiter=\"^\", header=True).csv(\"basicincident.txt\")"
   ]
  },
  {
   "cell_type": "code",
   "execution_count": 4,
   "metadata": {},
   "outputs": [
    {
     "name": "stdout",
     "output_type": "stream",
     "text": [
      "CPU times: user 3.15 ms, sys: 1.92 ms, total: 5.06 ms\n",
      "Wall time: 81 ms\n"
     ]
    }
   ],
   "source": [
    "%%time\n",
    "# Formatting datetime columns\n",
    "basic_time_module_df = basic_module_df.withColumn(\"ALARM_TIME\", F.to_timestamp(\"ALARM\",\"MMddyyyyHHmm\")).withColumn(\"CONT_TIME\", F.to_timestamp(\"INC_CONT\",\"MMddyyyyHHmm\")).withColumn(\"ARV_TIME\", F.to_timestamp(\"ARRIVAL\",\"MMddyyyyHHmm\"))"
   ]
  },
  {
   "cell_type": "code",
   "execution_count": 5,
   "metadata": {},
   "outputs": [
    {
     "name": "stderr",
     "output_type": "stream",
     "text": [
      "\r",
      "[Stage 3:>                                                          (0 + 8) / 8]\r"
     ]
    },
    {
     "name": "stdout",
     "output_type": "stream",
     "text": [
      "CPU times: user 264 ms, sys: 77.9 ms, total: 341 ms\n",
      "Wall time: 3.8 s\n"
     ]
    },
    {
     "name": "stderr",
     "output_type": "stream",
     "text": [
      "\r",
      "[Stage 3:==============>                                            (2 + 6) / 8]\r",
      "\r",
      "                                                                                \r"
     ]
    }
   ],
   "source": [
    "%%time\n",
    "# Finding Civilian Casualty vs. Total Fire Time(in seconds)\n",
    "total_fire_time_df = basic_time_module_df.withColumn(\"TOTAL_FIRE_TIME\", basic_time_module_df.CONT_TIME.cast(\"long\") - basic_time_module_df.ALARM_TIME.cast(\"long\"))\n",
    "civilian_casualty_fire_time = total_fire_time_df.join(civilian_casualities_df, total_fire_time_df.INCIDENT_KEY == civilian_casualities_df.INCIDENT_KEY)\n",
    "ccft_df = civilian_casualty_fire_time.groupBy(\"SEV\").agg(F.avg(\"TOTAL_FIRE_TIME\").alias(\"AVG_FIRE_TIME\"))\n",
    "p_ccft_df = ccft_df.toPandas()\n",
    "p_ccft_df[\"AVG_FIRE_TIME\"] = p_ccft_df[\"AVG_FIRE_TIME\"]/60"
   ]
  },
  {
   "cell_type": "code",
   "execution_count": 7,
   "metadata": {},
   "outputs": [
    {
     "name": "stdout",
     "output_type": "stream",
     "text": [
      "CPU times: user 72.3 ms, sys: 8.36 ms, total: 80.7 ms\n",
      "Wall time: 82.1 ms\n"
     ]
    },
    {
     "data": {
      "image/png": "[encoded data removed]",
      "text/plain": [
       "<Figure size 432x288 with 1 Axes>"
      ]
     },
     "metadata": {
      "needs_background": "light"
     },
     "output_type": "display_data"
    }
   ],
   "source": [
    "%%time\n",
    "p3 = p_ccft_df.drop([2]).sort_values(by=\"SEV\").plot(x=\"SEV\", y=\"AVG_FIRE_TIME\", xlabel=\"Civilian Severity\", ylabel = \"Average uncontrolled fire time (in minutes)\", kind=\"bar\", legend = False)\n",
    "fig3 = p3.get_figure()\n",
    "fig_name = \"civ_fire_time.png\"\n",
    "fig3.savefig(f\"{IMG_PATH}{fig_name}\")\n",
    "\n",
    "# saving to db\n",
    "save_in_db(fig_name, \"civilian_severity_vs_fire_time\")"
   ]
  }
 ],
 "metadata": {
  "kernelspec": {
   "display_name": "Python 3 (ipykernel)",
   "language": "python",
   "name": "python3"
  },
  "language_info": {
   "codemirror_mode": {
    "name": "ipython",
    "version": 3
   },
   "file_extension": ".py",
   "mimetype": "text/x-python",
   "name": "python",
   "nbconvert_exporter": "python",
   "pygments_lexer": "ipython3",
   "version": "3.9.12"
  },
  "vscode": {
   "interpreter": {
    "hash": "b9c0864c2c82c846553bd2c7001efc514f6abb49eba1568752f97689e9c7c0e4"
   }
  }
 },
 "nbformat": 4,
 "nbformat_minor": 2
}
