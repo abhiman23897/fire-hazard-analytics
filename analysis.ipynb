{
 "cells": [
  {
   "cell_type": "markdown",
   "metadata": {},
   "source": [
    "# Fire Hazard Incidents Analytics Pipeline"
   ]
  },
  {
   "cell_type": "markdown",
   "metadata": {},
   "source": [
    "## Importing Required Libraries"
   ]
  },
  {
   "cell_type": "code",
   "execution_count": 5,
   "metadata": {},
   "outputs": [],
   "source": [
    "from pyspark.sql import SparkSession\n",
    "from pyspark.sql import functions as F\n",
    "\n",
    "from storedb import save_in_db, IMG_PATH\n",
    "import matplotlib.pyplot as plt"
   ]
  },
  {
   "cell_type": "markdown",
   "metadata": {},
   "source": [
    "## Creating Spark Session and using all available cores"
   ]
  },
  {
   "cell_type": "code",
   "execution_count": 6,
   "metadata": {},
   "outputs": [
    {
     "name": "stderr",
     "output_type": "stream",
     "text": [
      "Warning: Ignoring non-Spark config property: local[4]\n"
     ]
    },
    {
     "name": "stdout",
     "output_type": "stream",
     "text": [
      "22/12/11 20:58:57 WARN Utils: Your hostname, Janhvis-MacBook-Air.local resolves to a loopback address: 127.0.0.1; using 192.168.1.109 instead (on interface en0)\n",
      "22/12/11 20:58:57 WARN Utils: Set SPARK_LOCAL_IP if you need to bind to another address\n"
     ]
    },
    {
     "name": "stderr",
     "output_type": "stream",
     "text": [
      "Setting default log level to \"WARN\".\n",
      "To adjust logging level use sc.setLogLevel(newLevel). For SparkR, use setLogLevel(newLevel).\n"
     ]
    },
    {
     "name": "stdout",
     "output_type": "stream",
     "text": [
      "22/12/11 20:58:57 WARN NativeCodeLoader: Unable to load native-hadoop library for your platform... using builtin-java classes where applicable\n",
      "22/12/11 20:58:58 WARN Utils: Service 'SparkUI' could not bind on port 4040. Attempting port 4041.\n",
      "22/12/11 20:58:58 WARN Utils: Service 'SparkUI' could not bind on port 4041. Attempting port 4042.\n",
      "22/12/11 20:58:58 WARN Utils: Service 'SparkUI' could not bind on port 4042. Attempting port 4043.\n",
      "22/12/11 20:58:58 WARN Utils: Service 'SparkUI' could not bind on port 4043. Attempting port 4044.\n",
      "22/12/11 20:58:58 WARN Utils: Service 'SparkUI' could not bind on port 4044. Attempting port 4045.\n",
      "22/12/11 20:58:58 WARN Utils: Service 'SparkUI' could not bind on port 4045. Attempting port 4046.\n"
     ]
    }
   ],
   "source": [
    "spark = SparkSession \\\n",
    "    .builder \\\n",
    "    .appName(\"532: Project\") \\\n",
    "    .config(\"local[4]\") \\\n",
    "    .getOrCreate()"
   ]
  },
  {
   "cell_type": "markdown",
   "metadata": {},
   "source": [
    "## Loading civilian casuality, firefighter casuality, fire incidents and basic module data"
   ]
  },
  {
   "cell_type": "code",
   "execution_count": 12,
   "metadata": {},
   "outputs": [],
   "source": [
    "civilian_casualities_df = spark.read.options(delimiter=\"^\", header=True).csv(\"civiliancasualty.txt\")\n",
    "firefighter_casualities_df = spark.read.options(delimiter=\"^\", header=True).csv(\"ffcasualty.txt\")\n",
    "basic_module_df = spark.read.options(delimiter=\"^\", header=True).csv(\"basicincident.txt\")\n",
    "fire_incidents_df = spark.read.options(delimiter=\"^\", header=True).csv(\"fireincident.txt\")"
   ]
  },
  {
   "cell_type": "code",
   "execution_count": 8,
   "metadata": {},
   "outputs": [],
   "source": [
    "# Dropping null values in loss tables and finding total loss\n",
    "basic_module_df = basic_module_df.na.drop(subset=(\"PROP_LOSS\",\"CONT_LOSS\"))\n",
    "total_loss = basic_module_df.groupBy(\"INCIDENT_KEY\").agg(F.sum(basic_module_df.PROP_LOSS + basic_module_df.CONT_LOSS).alias(\"TOTAL_LOSS\"))"
   ]
  },
  {
   "cell_type": "code",
   "execution_count": 9,
   "metadata": {},
   "outputs": [
    {
     "name": "stderr",
     "output_type": "stream",
     "text": [
      "                                                                                \r"
     ]
    }
   ],
   "source": [
    "# Finding Civilian Injury Severity vs. Dollar Loss\n",
    "civilian_dollar_loss = total_loss.join(civilian_casualities_df, total_loss.INCIDENT_KEY == civilian_casualities_df.INCIDENT_KEY)\n",
    "cdl_df = civilian_dollar_loss.groupBy(\"SEV\").agg(F.avg(\"TOTAL_LOSS\").alias(\"AVG_LOSS\"))\n",
    "p_cdl_df = cdl_df.toPandas()\n",
    "p_cdl_df[\"AVG_LOSS\"] = p_cdl_df[\"AVG_LOSS\"]/1000"
   ]
  },
  {
   "cell_type": "code",
   "execution_count": 12,
   "metadata": {},
   "outputs": [
    {
     "data": {
      "image/png": "[encoded data removed]",
      "text/plain": [
       "<Figure size 432x288 with 1 Axes>"
      ]
     },
     "metadata": {
      "needs_background": "light"
     },
     "output_type": "display_data"
    }
   ],
   "source": [
    "p1 = p_cdl_df.drop([2]).sort_values(by=\"SEV\").plot(x=\"SEV\", y=\"AVG_LOSS\", xlabel=\"Civilian Severity\", ylabel = \"Average loss in 1000$\", kind=\"bar\", legend = False)\n",
    "fig1 = p1.get_figure()\n",
    "fig1.savefig(f\"{IMG_PATH}civilian_dollar_loss.png\")\n",
    "save_in_db(\"civilian_dollar_loss.png\", \"p1\")"
   ]
  },
  {
   "cell_type": "code",
   "execution_count": 102,
   "metadata": {},
   "outputs": [
    {
     "name": "stderr",
     "output_type": "stream",
     "text": [
      "                                                                                \r"
     ]
    }
   ],
   "source": [
    "# Finding Firefighter Injury Severity vs. Dollar Loss\n",
    "firefighter_dollar_loss = total_loss.join(firefighter_casualities_df, total_loss.INCIDENT_KEY == firefighter_casualities_df.INCIDENT_KEY)\n",
    "ffdl_df = firefighter_dollar_loss.groupBy(\"SEVERITY\").agg(F.avg(\"TOTAL_LOSS\").alias(\"AVG_LOSS\"))\n",
    "p_ffdl_df = ffdl_df.toPandas()"
   ]
  },
  {
   "cell_type": "code",
   "execution_count": 103,
   "metadata": {},
   "outputs": [
    {
     "data": {
      "image/png": "[encoded data removed]",
      "text/plain": [
       "<Figure size 432x288 with 1 Axes>"
      ]
     },
     "metadata": {
      "needs_background": "light"
     },
     "output_type": "display_data"
    }
   ],
   "source": [
    "p2 = p_ffdl_df.drop([3]).sort_values(by=\"SEVERITY\").plot(x=\"SEVERITY\", y=\"AVG_LOSS\", xlabel=\"Firefighter Severity\", ylabel = \"Average loss in $\", kind=\"bar\", legend = False)\n",
    "fig2 = p2.get_figure()\n",
    "fig2.savefig(\"ff_dollar_loss.png\")"
   ]
  },
  {
   "cell_type": "code",
   "execution_count": 105,
   "metadata": {},
   "outputs": [],
   "source": [
    "# Formatting datetime columns\n",
    "basic_time_module_df = basic_module_df.withColumn(\"ALARM_TIME\", F.to_timestamp(\"ALARM\",\"MMddyyyyHHmm\")).withColumn(\"CONT_TIME\", F.to_timestamp(\"INC_CONT\",\"MMddyyyyHHmm\")).withColumn(\"ARV_TIME\", F.to_timestamp(\"ARRIVAL\",\"MMddyyyyHHmm\"))"
   ]
  },
  {
   "cell_type": "code",
   "execution_count": 106,
   "metadata": {},
   "outputs": [
    {
     "name": "stderr",
     "output_type": "stream",
     "text": [
      "                                                                                \r"
     ]
    }
   ],
   "source": [
    "# Finding Civilian Casualty vs. Total Fire Time(in seconds)\n",
    "total_fire_time_df = basic_time_module_df.withColumn(\"TOTAL_FIRE_TIME\", basic_time_module_df.CONT_TIME.cast(\"long\") - basic_time_module_df.ALARM_TIME.cast(\"long\"))\n",
    "civilian_casualty_fire_time = total_fire_time_df.join(civilian_casualities_df, total_fire_time_df.INCIDENT_KEY == civilian_casualities_df.INCIDENT_KEY)\n",
    "ccft_df = civilian_casualty_fire_time.groupBy(\"SEV\").agg(F.avg(\"TOTAL_FIRE_TIME\").alias(\"AVG_FIRE_TIME\"))\n",
    "p_ccft_df = ccft_df.toPandas()\n",
    "p_ccft_df[\"AVG_FIRE_TIME\"] = p_ccft_df[\"AVG_FIRE_TIME\"]/60"
   ]
  },
  {
   "cell_type": "code",
   "execution_count": 107,
   "metadata": {},
   "outputs": [
    {
     "data": {
      "image/png": "[encoded data removed]",
      "text/plain": [
       "<Figure size 432x288 with 1 Axes>"
      ]
     },
     "metadata": {
      "needs_background": "light"
     },
     "output_type": "display_data"
    }
   ],
   "source": [
    "p3 = p_ccft_df.drop([2]).sort_values(by=\"SEV\").plot(x=\"SEV\", y=\"AVG_FIRE_TIME\", xlabel=\"Civilian Severity\", ylabel = \"Average uncontrolled fire time (in minutes)\", kind=\"bar\", legend = False)\n",
    "fig3 = p3.get_figure()\n",
    "fig3.savefig(\"civ_fire_time.png\")"
   ]
  },
  {
   "cell_type": "code",
   "execution_count": 108,
   "metadata": {},
   "outputs": [
    {
     "name": "stderr",
     "output_type": "stream",
     "text": [
      "                                                                                \r"
     ]
    }
   ],
   "source": [
    "ff_response_time = basic_time_module_df.withColumn(\"FF_RESPONSE_TIME\", basic_time_module_df.CONT_TIME.cast(\"long\") - basic_time_module_df.ARV_TIME.cast(\"long\"))\n",
    "ff_severity_response_time = ff_response_time.join(firefighter_casualities_df, ff_response_time.INCIDENT_KEY == firefighter_casualities_df.INCIDENT_KEY)\n",
    "ffrt_df = ff_severity_response_time.groupBy(\"SEVERITY\").agg(F.avg(\"FF_RESPONSE_TIME\").alias(\"AVG_RSP_TIME\"))\n",
    "p_ffrt_df = ffrt_df.toPandas()\n",
    "p_ffrt_df[\"AVG_RSP_TIME\"] = p_ffrt_df[\"AVG_RSP_TIME\"]/3600"
   ]
  },
  {
   "cell_type": "code",
   "execution_count": 109,
   "metadata": {},
   "outputs": [
    {
     "data": {
      "image/png": "[encoded data removed]",
      "text/plain": [
       "<Figure size 432x288 with 1 Axes>"
      ]
     },
     "metadata": {
      "needs_background": "light"
     },
     "output_type": "display_data"
    }
   ],
   "source": [
    "p4 = p_ffrt_df.drop([3]).sort_values(by=\"SEVERITY\").plot(x=\"SEVERITY\", y=\"AVG_RSP_TIME\", xlabel=\"Firefighter Severity\", ylabel = \"Average time taken to control fire (in hours)\", kind=\"bar\", legend = False)\n",
    "fig4 = p4.get_figure()\n",
    "fig4.savefig(\"ff_fire_time.png\")"
   ]
  },
  {
   "cell_type": "code",
   "execution_count": 191,
   "metadata": {
    "scrolled": false
   },
   "outputs": [],
   "source": [
    "ignition_cause = fire_incidents_df.na.drop(subset=(\"CAUSE_IGN\"))"
   ]
  },
  {
   "cell_type": "code",
   "execution_count": 111,
   "metadata": {},
   "outputs": [
    {
     "name": "stderr",
     "output_type": "stream",
     "text": [
      "                                                                                \r"
     ]
    }
   ],
   "source": [
    "ignition_cause_vs_loss = total_loss.join(ignition_cause, total_loss.INCIDENT_KEY == ignition_cause.INCIDENT_KEY)\n",
    "cause_loss_df = ignition_cause_vs_loss.groupBy(\"CAUSE_IGN\").agg(F.sum(\"TOTAL_LOSS\").alias(\"DLR_LOSS\"))\n",
    "p_cause_loss_df = cause_loss_df.toPandas()\n",
    "p_cause_loss_df[\"DLR_LOSS\"] = p_cause_loss_df[\"DLR_LOSS\"]/1e09"
   ]
  },
  {
   "cell_type": "code",
   "execution_count": 112,
   "metadata": {},
   "outputs": [
    {
     "data": {
      "image/png": "[encoded data removed]",
      "text/plain": [
       "<Figure size 432x288 with 1 Axes>"
      ]
     },
     "metadata": {
      "needs_background": "light"
     },
     "output_type": "display_data"
    }
   ],
   "source": [
    "p5 = p_cause_loss_df.sort_values(by=\"CAUSE_IGN\").plot(x=\"CAUSE_IGN\", y=\"DLR_LOSS\", xlabel=\"Ignition Cause\", ylabel = \"Total loss in billion $\", kind=\"bar\", legend = False)\n",
    "fig5 = p5.get_figure()\n",
    "fig5.savefig(\"cause_dollar_loss.png\")"
   ]
  },
  {
   "cell_type": "markdown",
   "metadata": {},
   "source": [
    "# Month vs Major states vs Types of fire"
   ]
  },
  {
   "cell_type": "code",
   "execution_count": 13,
   "metadata": {},
   "outputs": [
    {
     "name": "stderr",
     "output_type": "stream",
     "text": [
      "                                                                                \r"
     ]
    },
    {
     "name": "stdout",
     "output_type": "stream",
     "text": [
      "+-----+------+\n",
      "|STATE| count|\n",
      "+-----+------+\n",
      "|   CA|199861|\n",
      "|   NY|153107|\n",
      "|   TX|147339|\n",
      "|   PA|111974|\n",
      "|   IL|108881|\n",
      "|   OH|107875|\n",
      "|   FL|103816|\n",
      "|   MA| 87113|\n",
      "|   MI| 81673|\n",
      "|   NC| 71528|\n",
      "|   GA| 69030|\n",
      "|   WA| 56155|\n",
      "|   NJ| 55601|\n",
      "|   VA| 47907|\n",
      "|   TN| 46844|\n",
      "|   SC| 44756|\n",
      "|   CO| 41844|\n",
      "|   MO| 40311|\n",
      "|   IN| 38287|\n",
      "|   OK| 35816|\n",
      "+-----+------+\n",
      "only showing top 20 rows\n",
      "\n"
     ]
    }
   ],
   "source": [
    "incident_state = basic_module_df.select(\"INCIDENT_KEY\", \"STATE\", \"INC_DATE\")\n",
    "incident_state.groupBy('STATE').count().sort(F.desc(\"count\")).show()\n",
    "\n",
    "# selecting top 10 states\n",
    "incident_state = incident_state.withColumn(\"INC_MONTH\", F.month(F.to_date(incident_state.INC_DATE,\"MMddyyyy\")))\n",
    "\n",
    "incidents_ca = incident_state.filter(incident_state.STATE == \"CA\").groupBy(\"INC_MONTH\").count()\n",
    "incidents_tx = incident_state.filter(incident_state.STATE == \"TX\").groupBy(\"INC_MONTH\").count()\n",
    "incidents_pa = incident_state.filter(incident_state.STATE == \"PA\").groupBy(\"INC_MONTH\").count()\n",
    "incidents_fl = incident_state.filter(incident_state.STATE == \"FL\").groupBy(\"INC_MONTH\").count()\n",
    "incidents_oh = incident_state.filter(incident_state.STATE == \"OH\").groupBy(\"INC_MONTH\").count()\n",
    "incidents_ny = incident_state.filter(incident_state.STATE == \"NY\").groupBy(\"INC_MONTH\").count()\n",
    "incidents_il = incident_state.filter(incident_state.STATE == \"IL\").groupBy(\"INC_MONTH\").count()\n",
    "incidents_ga = incident_state.filter(incident_state.STATE == \"GA\").groupBy(\"INC_MONTH\").count()\n",
    "incidents_nc = incident_state.filter(incident_state.STATE == \"NC\").groupBy(\"INC_MONTH\").count()\n",
    "incidents_mi = incident_state.filter(incident_state.STATE == \"MI\").groupBy(\"INC_MONTH\").count()\n",
    "incidents_ma = incident_state.filter(incident_state.STATE == \"MA\").groupBy(\"INC_MONTH\").count()\n",
    "\n",
    "# incidents_ca.show()\n",
    "# incidents_tx.show()\n",
    "# incidents_ma.show()"
   ]
  },
  {
   "cell_type": "code",
   "execution_count": 14,
   "metadata": {},
   "outputs": [
    {
     "name": "stderr",
     "output_type": "stream",
     "text": [
      "                                                                                \r"
     ]
    }
   ],
   "source": [
    "inc_ca_df = incidents_ca.toPandas()\n",
    "inc_tx_df = incidents_tx.toPandas()\n",
    "inc_pa_df = incidents_pa.toPandas()\n",
    "inc_fl_df = incidents_fl.toPandas()\n",
    "inc_oh_df = incidents_oh.toPandas()\n",
    "inc_ny_df = incidents_ny.toPandas()\n",
    "inc_il_df = incidents_il.toPandas()\n",
    "inc_ga_df = incidents_ga.toPandas()\n",
    "inc_nc_df = incidents_nc.toPandas()\n",
    "inc_mi_df = incidents_mi.toPandas()\n",
    "inc_ma_df = incidents_ma.toPandas()"
   ]
  },
  {
   "cell_type": "code",
   "execution_count": 15,
   "metadata": {},
   "outputs": [
    {
     "data": {
      "image/png": "[encoded data removed]",
      "text/plain": [
       "<Figure size 432x288 with 1 Axes>"
      ]
     },
     "metadata": {
      "needs_background": "light"
     },
     "output_type": "display_data"
    }
   ],
   "source": [
    "t1 = inc_ca_df.sort_values(by=\"INC_MONTH\").plot(x=\"INC_MONTH\", y=\"count\")\n",
    "inc_tx_df.sort_values(by=\"INC_MONTH\").plot(x=\"INC_MONTH\", y=\"count\", ax = t1)\n",
    "inc_pa_df.sort_values(by=\"INC_MONTH\").plot(x=\"INC_MONTH\", y=\"count\", ax = t1)\n",
    "inc_fl_df.sort_values(by=\"INC_MONTH\").plot(x=\"INC_MONTH\", y=\"count\", ax = t1)\n",
    "inc_oh_df.sort_values(by=\"INC_MONTH\").plot(x=\"INC_MONTH\", y=\"count\", ax = t1)\n",
    "inc_ny_df.sort_values(by=\"INC_MONTH\").plot(x=\"INC_MONTH\", y=\"count\", ax = t1)\n",
    "inc_il_df.sort_values(by=\"INC_MONTH\").plot(x=\"INC_MONTH\", y=\"count\", ax = t1)\n",
    "inc_ga_df.sort_values(by=\"INC_MONTH\").plot(x=\"INC_MONTH\", y=\"count\", ax = t1)\n",
    "inc_nc_df.sort_values(by=\"INC_MONTH\").plot(x=\"INC_MONTH\", y=\"count\", ax = t1)\n",
    "inc_mi_df.sort_values(by=\"INC_MONTH\").plot(x=\"INC_MONTH\", y=\"count\", ax = t1)\n",
    "inc_ma_df.sort_values(by=\"INC_MONTH\").plot(x=\"INC_MONTH\", y=\"count\", xlabel = \"Month\", ylabel = \"Number of fires\", ax = t1).get_figure()\n",
    "plt.legend([\"CA\", \"TX\", \"PA\", \"FL\", \"OH\", \"NY\", \"IL\", \"GA\", \"NC\", \"MI\", \"MA\"])\n",
    "plt.savefig(\"state_inc.png\")"
   ]
  },
  {
   "cell_type": "code",
   "execution_count": 8,
   "metadata": {
    "collapsed": true
   },
   "outputs": [
    {
     "name": "stderr",
     "output_type": "stream",
     "text": [
      "\r\n",
      "[Stage 11:>                                                         (0 + 8) / 8]\r"
     ]
    },
    {
     "name": "stdout",
     "output_type": "stream",
     "text": [
      "+-------+\n",
      "|OTH_INJ|\n",
      "+-------+\n",
      "|      7|\n",
      "|      3|\n",
      "|      0|\n",
      "|   null|\n",
      "|      1|\n",
      "|      4|\n",
      "|      2|\n",
      "|      8|\n",
      "|      5|\n",
      "|      6|\n",
      "|     10|\n",
      "|     29|\n",
      "|      9|\n",
      "|     20|\n",
      "|     12|\n",
      "|     11|\n",
      "+-------+\n",
      "\n"
     ]
    },
    {
     "name": "stderr",
     "output_type": "stream",
     "text": [
      "\r\n",
      "[Stage 11:=======>                                                  (1 + 7) / 8]\r\n",
      "\r\n",
      "                                                                                \r"
     ]
    }
   ],
   "source": [
    "basic_module_df.select(\"OTH_INJ\").distinct().show()\n",
    "fire_incidents_df.select(\"NO_SPR_OP\").distinct().show()\n",
    "fire_incidents_df.select(\"ACRES_BURN\").distinct().show()\n",
    "fire_incidents_df.select(\"BLDG_INVOL\").distinct().show()"
   ]
  },
  {
   "cell_type": "code",
   "execution_count": 16,
   "metadata": {},
   "outputs": [
    {
     "data": {
      "text/plain": [
       "542192"
      ]
     },
     "execution_count": 16,
     "metadata": {},
     "output_type": "execute_result"
    }
   ],
   "source": [
    "fire_incidents_df.select(\"NO_SPR_OP\").count()"
   ]
  },
  {
   "cell_type": "code",
   "execution_count": 31,
   "metadata": {},
   "outputs": [
    {
     "data": {
      "text/plain": [
       "542192"
      ]
     },
     "execution_count": 31,
     "metadata": {},
     "output_type": "execute_result"
    }
   ],
   "source": [
    "fire_incidents_df.select(\"BLDG_INVOL\").count()"
   ]
  },
  {
   "cell_type": "code",
   "execution_count": 33,
   "metadata": {},
   "outputs": [
    {
     "data": {
      "text/plain": [
       "5545"
      ]
     },
     "execution_count": 33,
     "metadata": {},
     "output_type": "execute_result"
    }
   ],
   "source": [
    "fire_incidents_df.select(\"NO_SPR_OP\").count()\n",
    "fire_incidents_df_na = fire_incidents_df.na.drop(subset=[\"NO_SPR_OP\"])\n",
    "fire_incidents_df_na.select(\"NO_SPR_OP\").count()"
   ]
  },
  {
   "cell_type": "code",
   "execution_count": 34,
   "metadata": {},
   "outputs": [
    {
     "name": "stdout",
     "output_type": "stream",
     "text": [
      "+---------+\n",
      "|NO_SPR_OP|\n",
      "+---------+\n",
      "|        7|\n",
      "|        3|\n",
      "|        8|\n",
      "|        0|\n",
      "|        5|\n",
      "|        6|\n",
      "|       40|\n",
      "|       25|\n",
      "|        9|\n",
      "|        1|\n",
      "|       20|\n",
      "|       10|\n",
      "|        4|\n",
      "|        2|\n",
      "|      100|\n",
      "|      150|\n",
      "|      200|\n",
      "|       60|\n",
      "|       13|\n",
      "|       45|\n",
      "+---------+\n",
      "only showing top 20 rows\n",
      "\n"
     ]
    }
   ],
   "source": [
    "fire_incidents_df_na.select(\"NO_SPR_OP\").distinct().show()"
   ]
  },
  {
   "cell_type": "code",
   "execution_count": 35,
   "metadata": {},
   "outputs": [
    {
     "name": "stdout",
     "output_type": "stream",
     "text": [
      "+---------+-----+\n",
      "|NO_SPR_OP|count|\n",
      "+---------+-----+\n",
      "|        7|   12|\n",
      "|        3|  162|\n",
      "|        8|   19|\n",
      "|        0| 1940|\n",
      "|        5|   40|\n",
      "|        6|   42|\n",
      "|       40|    2|\n",
      "|       25|    3|\n",
      "|        9|    6|\n",
      "|        1| 2594|\n",
      "|       20|    6|\n",
      "|       10|   30|\n",
      "|        4|   94|\n",
      "|        2|  559|\n",
      "|      100|    8|\n",
      "|      150|    2|\n",
      "|      200|    1|\n",
      "|       60|    1|\n",
      "|       13|    1|\n",
      "|       45|    1|\n",
      "+---------+-----+\n",
      "only showing top 20 rows\n",
      "\n"
     ]
    }
   ],
   "source": [
    "fire_incidents_df_na.groupBy(\"NO_SPR_OP\").count().show()"
   ]
  },
  {
   "cell_type": "code",
   "execution_count": 36,
   "metadata": {},
   "outputs": [
    {
     "data": {
      "text/plain": [
       "5545"
      ]
     },
     "execution_count": 36,
     "metadata": {},
     "output_type": "execute_result"
    }
   ],
   "source": [
    "fire_incidents_df_na.select(\"ACRES_BURN\").count()"
   ]
  },
  {
   "cell_type": "code",
   "execution_count": 40,
   "metadata": {},
   "outputs": [
    {
     "name": "stdout",
     "output_type": "stream",
     "text": [
      "+----------+-----+\n",
      "|ACRES_BURN|count|\n",
      "+----------+-----+\n",
      "|         0| 2415|\n",
      "|      null| 3109|\n",
      "|         1|   21|\n",
      "+----------+-----+\n",
      "\n"
     ]
    }
   ],
   "source": [
    "fire_incidents_df_na.groupBy(\"ACRES_BURN\").count().show()"
   ]
  },
  {
   "cell_type": "code",
   "execution_count": 39,
   "metadata": {},
   "outputs": [
    {
     "name": "stdout",
     "output_type": "stream",
     "text": [
      "+----------+-----+\n",
      "|BLDG_INVOL|count|\n",
      "+----------+-----+\n",
      "|         7|    1|\n",
      "|         3|   12|\n",
      "|         0|  701|\n",
      "|      null|  901|\n",
      "|         1| 3897|\n",
      "|         2|   19|\n",
      "|         4|    5|\n",
      "|        12|    1|\n",
      "|        14|    1|\n",
      "|       160|    1|\n",
      "|         8|    1|\n",
      "|         5|    3|\n",
      "|        18|    1|\n",
      "|         6|    1|\n",
      "+----------+-----+\n",
      "\n"
     ]
    }
   ],
   "source": [
    "fire_incidents_df_na.groupBy(\"BLDG_INVOL\").count().show()"
   ]
  },
  {
   "cell_type": "code",
   "execution_count": 113,
   "metadata": {},
   "outputs": [
    {
     "data": {
      "text/plain": [
       "69093"
      ]
     },
     "execution_count": 113,
     "metadata": {},
     "output_type": "execute_result"
    }
   ],
   "source": [
    "wildlands_df.count()"
   ]
  },
  {
   "cell_type": "markdown",
   "metadata": {},
   "source": [
    "# Graph: Relative Humidity vs Spread Rate"
   ]
  },
  {
   "cell_type": "code",
   "execution_count": 114,
   "metadata": {},
   "outputs": [
    {
     "data": {
      "text/plain": [
       "962"
      ]
     },
     "execution_count": 114,
     "metadata": {},
     "output_type": "execute_result"
    }
   ],
   "source": [
    "wildlands_df_na = wildlands_df.na.drop(subset=(\"REL_HUMID\",\"SPREAD_RAT\"))\n",
    "wildlands_df_na.count()"
   ]
  },
  {
   "cell_type": "code",
   "execution_count": 115,
   "metadata": {},
   "outputs": [
    {
     "name": "stdout",
     "output_type": "stream",
     "text": [
      "+---------+-----+\n",
      "|REL_HUMID|count|\n",
      "+---------+-----+\n",
      "|       15|   16|\n",
      "|       29|   10|\n",
      "|       42|    7|\n",
      "|       64|    3|\n",
      "|       30|   21|\n",
      "|       34|    7|\n",
      "|        8|    5|\n",
      "|       28|    7|\n",
      "|       85|    5|\n",
      "|       35|   16|\n",
      "|        0|  396|\n",
      "|       43|    7|\n",
      "|       31|    9|\n",
      "|       18|   15|\n",
      "|       70|   11|\n",
      "|       75|    7|\n",
      "|       17|   12|\n",
      "|       26|    7|\n",
      "|       46|    4|\n",
      "|       78|    1|\n",
      "+---------+-----+\n",
      "only showing top 20 rows\n",
      "\n"
     ]
    }
   ],
   "source": [
    "wildlands_df_na.groupBy(\"REL_HUMID\").count().show()"
   ]
  },
  {
   "cell_type": "code",
   "execution_count": 120,
   "metadata": {},
   "outputs": [
    {
     "name": "stdout",
     "output_type": "stream",
     "text": [
      "+----------+-----+\n",
      "|SPREAD_RAT|count|\n",
      "+----------+-----+\n",
      "|        15|    7|\n",
      "|         3|   22|\n",
      "|         0|  684|\n",
      "|         5|   14|\n",
      "|        25|    4|\n",
      "|         1|  115|\n",
      "|        20|    7|\n",
      "|        10|   12|\n",
      "|         4|   16|\n",
      "|        12|    3|\n",
      "|         2|   43|\n",
      "|        45|    1|\n",
      "|        28|    1|\n",
      "|        16|    1|\n",
      "|         6|   13|\n",
      "|        90|    1|\n",
      "|       900|    1|\n",
      "|        80|    1|\n",
      "|         7|    2|\n",
      "|         8|    6|\n",
      "+----------+-----+\n",
      "only showing top 20 rows\n",
      "\n"
     ]
    }
   ],
   "source": [
    "wildlands_df_na.groupBy(\"SPREAD_RAT\").count().show()"
   ]
  },
  {
   "cell_type": "code",
   "execution_count": 123,
   "metadata": {
    "collapsed": true
   },
   "outputs": [
    {
     "data": {
      "image/png": "[encoded data removed]",
      "text/plain": [
       "<Figure size 432x288 with 1 Axes>"
      ]
     },
     "metadata": {
      "needs_background": "light"
     },
     "output_type": "display_data"
    }
   ],
   "source": [
    "from pyspark.sql.types import IntegerType\n",
    "\n",
    "wildlands_df_plot = wildlands_df_na.select(\"REL_HUMID\", \"SPREAD_RAT\")\n",
    "\n",
    "wildlands_df_plot = wildlands_df_plot.filter(wildlands_df_plot.SPREAD_RAT < 50).filter(wildlands_df_plot.SPREAD_RAT > 1)\n",
    "p_wildlands_df_na = wildlands_df_plot.toPandas()\n",
    "p_wildlands_df_na = p_wildlands_df_na.astype(float)\n",
    "ptest = p_wildlands_df_na.sort_values(by=\"REL_HUMID\").plot.scatter(x=\"REL_HUMID\", y=\"SPREAD_RAT\", xlabel=\"Relative Humid\", ylabel = \"Fire Spread Rate\", legend = False)\n",
    "figtest = ptest.get_figure()"
   ]
  },
  {
   "cell_type": "markdown",
   "metadata": {},
   "source": [
    "# Graph: Spread Rate vs Fuel Moisture"
   ]
  },
  {
   "cell_type": "code",
   "execution_count": 210,
   "metadata": {},
   "outputs": [
    {
     "data": {
      "text/plain": [
       "747"
      ]
     },
     "execution_count": 210,
     "metadata": {},
     "output_type": "execute_result"
    }
   ],
   "source": [
    "wildlands_df_na = wildlands_df.na.drop(subset=(\"FUEL_MOIST\",\"SPREAD_RAT\"))\n",
    "wildlands_df_na.count()"
   ]
  },
  {
   "cell_type": "code",
   "execution_count": 211,
   "metadata": {
    "scrolled": true
   },
   "outputs": [
    {
     "name": "stdout",
     "output_type": "stream",
     "text": [
      "+----------+-----+\n",
      "|FUEL_MOIST|count|\n",
      "+----------+-----+\n",
      "|         7|    6|\n",
      "|         3|    3|\n",
      "|         8|    5|\n",
      "|         0|  633|\n",
      "|         5|   14|\n",
      "|         6|    9|\n",
      "|        25|    2|\n",
      "|         1|    2|\n",
      "|        12|    3|\n",
      "|         2|    4|\n",
      "|        15|   10|\n",
      "|        18|    2|\n",
      "|        75|    1|\n",
      "|        60|    3|\n",
      "|        68|    1|\n",
      "|        84|    1|\n",
      "|         9|    3|\n",
      "|        20|    5|\n",
      "|        10|   11|\n",
      "|         4|    6|\n",
      "+----------+-----+\n",
      "only showing top 20 rows\n",
      "\n"
     ]
    }
   ],
   "source": [
    "wildlands_df_na.groupBy(\"FUEL_MOIST\").count().show()"
   ]
  },
  {
   "cell_type": "code",
   "execution_count": 130,
   "metadata": {},
   "outputs": [
    {
     "data": {
      "image/png": "[encoded data removed]",
      "text/plain": [
       "<Figure size 432x288 with 1 Axes>"
      ]
     },
     "metadata": {
      "needs_background": "light"
     },
     "output_type": "display_data"
    }
   ],
   "source": [
    "wildlands_df_plot = wildlands_df_na.select(\"FUEL_MOIST\", \"SPREAD_RAT\")\n",
    "wildlands_df_plot = wildlands_df_plot.filter(wildlands_df_plot.SPREAD_RAT < 50).filter(wildlands_df_plot.SPREAD_RAT > 1)\n",
    "p_wildlands_df_na = wildlands_df_plot.toPandas()\n",
    "p_wildlands_df_na = p_wildlands_df_na.astype(float)\n",
    "ptest = p_wildlands_df_na.sort_values(by=\"FUEL_MOIST\").plot.scatter(x=\"FUEL_MOIST\", y=\"SPREAD_RAT\", xlabel=\"MOIST\", ylabel = \"Fire Spread Rate\", legend = False)\n",
    "figtest = ptest.get_figure()"
   ]
  },
  {
   "cell_type": "markdown",
   "metadata": {},
   "source": [
    "# Graph : Human Factors vs Count"
   ]
  },
  {
   "cell_type": "code",
   "execution_count": 139,
   "metadata": {},
   "outputs": [
    {
     "data": {
      "text/plain": [
       "2031"
      ]
     },
     "execution_count": 139,
     "metadata": {},
     "output_type": "execute_result"
    }
   ],
   "source": [
    "ems_df = spark.read.options(delimiter=\"^\", header=True).csv(\"ems.txt\")\n",
    "ems_df.count()"
   ]
  },
  {
   "cell_type": "code",
   "execution_count": 204,
   "metadata": {},
   "outputs": [],
   "source": [
    "ems_df_combine = ems_df.select(F.explode(F.array(ems_df.HUM_FACT1, ems_df.HUM_FACT2, ems_df.HUM_FACT3, ems_df.HUM_FACT4, ems_df.HUM_FACT5, ems_df.HUM_FACT6, ems_df.HUM_FACT7, ems_df.HUM_FACT8)).alias(\"HumanFactors\"))\n",
    "ems_df_comb_na = ems_df_combine.na.drop(subset=(\"HumanFactors\"))\n",
    "\n",
    "ems_df_comb_na = ems_df_comb_na.filter(ems_df_comb_na.HumanFactors != \"N\")\n",
    "ems_df_comb_na = ems_df_comb_na.groupBy(\"HumanFactors\").count()\n"
   ]
  },
  {
   "cell_type": "code",
   "execution_count": 205,
   "metadata": {},
   "outputs": [
    {
     "data": {
      "text/html": [
       "<div>\n",
       "<style scoped>\n",
       "    .dataframe tbody tr th:only-of-type {\n",
       "        vertical-align: middle;\n",
       "    }\n",
       "\n",
       "    .dataframe tbody tr th {\n",
       "        vertical-align: top;\n",
       "    }\n",
       "\n",
       "    .dataframe thead th {\n",
       "        text-align: right;\n",
       "    }\n",
       "</style>\n",
       "<table border=\"1\" class=\"dataframe\">\n",
       "  <thead>\n",
       "    <tr style=\"text-align: right;\">\n",
       "      <th></th>\n",
       "      <th>HumanFactors</th>\n",
       "      <th>count</th>\n",
       "    </tr>\n",
       "  </thead>\n",
       "  <tbody>\n",
       "    <tr>\n",
       "      <th>0</th>\n",
       "      <td>3</td>\n",
       "      <td>26</td>\n",
       "    </tr>\n",
       "    <tr>\n",
       "      <th>1</th>\n",
       "      <td>8</td>\n",
       "      <td>10</td>\n",
       "    </tr>\n",
       "    <tr>\n",
       "      <th>2</th>\n",
       "      <td>5</td>\n",
       "      <td>14</td>\n",
       "    </tr>\n",
       "    <tr>\n",
       "      <th>3</th>\n",
       "      <td>6</td>\n",
       "      <td>16</td>\n",
       "    </tr>\n",
       "    <tr>\n",
       "      <th>4</th>\n",
       "      <td>1</td>\n",
       "      <td>20</td>\n",
       "    </tr>\n",
       "    <tr>\n",
       "      <th>5</th>\n",
       "      <td>4</td>\n",
       "      <td>26</td>\n",
       "    </tr>\n",
       "    <tr>\n",
       "      <th>6</th>\n",
       "      <td>2</td>\n",
       "      <td>6</td>\n",
       "    </tr>\n",
       "  </tbody>\n",
       "</table>\n",
       "</div>"
      ],
      "text/plain": [
       "  HumanFactors  count\n",
       "0            3     26\n",
       "1            8     10\n",
       "2            5     14\n",
       "3            6     16\n",
       "4            1     20\n",
       "5            4     26\n",
       "6            2      6"
      ]
     },
     "execution_count": 205,
     "metadata": {},
     "output_type": "execute_result"
    }
   ],
   "source": [
    "p_ems_df = ems_df_comb_na.toPandas()\n",
    "p_ems_df"
   ]
  },
  {
   "cell_type": "code",
   "execution_count": 238,
   "metadata": {},
   "outputs": [
    {
     "data": {
      "image/png": "[encoded data removed]",
      "text/plain": [
       "<Figure size 576x360 with 1 Axes>"
      ]
     },
     "metadata": {
      "needs_background": "light"
     },
     "output_type": "display_data"
    }
   ],
   "source": [
    "p_ems_df = ems_df_comb_na.toPandas()\n",
    "\n",
    "# p_ems_df = p_ems_df.astype(float)\n",
    "ptest = p_ems_df.sort_values(by=\"HumanFactors\").plot(x=\"HumanFactors\", y=\"count\", xlabel=\"Human Factors\", ylabel = \"Number of Fire Incidents\", legend = False, kind=\"bar\", ylim=(0,40),figsize=(8,5))\n",
    "fig1 = ptest.get_figure()\n",
    "fig1.savefig(\"human_factors_number.png\")"
   ]
  },
  {
   "cell_type": "markdown",
   "metadata": {},
   "source": [
    "# Graph: Cause vs Count"
   ]
  },
  {
   "cell_type": "code",
   "execution_count": 192,
   "metadata": {
    "collapsed": true
   },
   "outputs": [
    {
     "name": "stdout",
     "output_type": "stream",
     "text": [
      "+--------------------+-----+-----+--------+------+------+-------+--------+-------+----------+----------+----------+----------+---------+----------+---------+----------+---------+---------+----------+---------+---------+--------+---------+----------+----------+---------+---------+---------+---------+---------+---------+---------+---------+----+----+---------+---------+---------+---------+---------+--------+--------+-------------+--------+----------+---------+----------+--------+--------+---------+-------+--------+-------+---------+----------+----------+----------+----------+---------+----------+---------+---------+----------+----------+----------+----------+----------+---------+--------+--------+--------+---------+----------+----------+--------+--------+--------+--------+---------+--------+\n",
      "|        INCIDENT_KEY|STATE| FDID|INC_DATE|INC_NO|EXP_NO|VERSION|NUM_UNIT|NOT_RES|BLDG_INVOL|ACRES_BURN|LESS_1ACRE|ON_SITE_M1|MAT_STOR1|ON_SITE_M2|MAT_STOR2|ON_SITE_M3|MAT_STOR3|AREA_ORIG|HEAT_SOURC|FIRST_IGN|CONF_ORIG|TYPE_MAT|CAUSE_IGN|FACT_IGN_1|FACT_IGN_2|HUM_FAC_1|HUM_FAC_2|HUM_FAC_3|HUM_FAC_4|HUM_FAC_5|HUM_FAC_6|HUM_FAC_7|HUM_FAC_8| AGE| SEX|EQUIP_INV|SUP_FAC_1|SUP_FAC_2|SUP_FAC_3|MOB_INVOL|MOB_TYPE|MOB_MAKE|    MOB_MODEL|MOB_YEAR|MOB_LIC_PL|MOB_STATE|MOB_VIN_NO|EQ_BRAND|EQ_MODEL|EQ_SER_NO|EQ_YEAR|EQ_POWER|EQ_PORT|FIRE_SPRD|STRUC_TYPE|STRUC_STAT|BLDG_ABOVE|BLDG_BELOW|BLDG_LGTH|BLDG_WIDTH|TOT_SQ_FT|FIRE_ORIG|ST_DAM_MIN|ST_DAM_SIG|ST_DAM_HVY|ST_DAM_XTR|FLAME_SPRD|ITEM_SPRD|MAT_SPRD|DETECTOR|DET_TYPE|DET_POWER|DET_OPERAT|DET_EFFECT|DET_FAIL|AES_PRES|AES_TYPE|AES_OPER|NO_SPR_OP|AES_FAIL|\n",
      "+--------------------+-----+-----+--------+------+------+-------+--------+-------+----------+----------+----------+----------+---------+----------+---------+----------+---------+---------+----------+---------+---------+--------+---------+----------+----------+---------+---------+---------+---------+---------+---------+---------+---------+----+----+---------+---------+---------+---------+---------+--------+--------+-------------+--------+----------+---------+----------+--------+--------+---------+-------+--------+-------+---------+----------+----------+----------+----------+---------+----------+---------+---------+----------+----------+----------+----------+----------+---------+--------+--------+--------+---------+----------+----------+--------+--------+--------+--------+---------+--------+\n",
      "|AK_11100_01112020...|   AK|11100|01112020| 20136|     0|    5.0|    null|      Y|      null|         0|      null|      null|     null|      null|     null|      null|     null|       83|        11|       81|        1|      41|        U|        NN|      null|        N|     null|     null|     null|     null|     null|     null|     null|null|null|      NNN|      NNN|     null|     null|        2|      11|      AU|         null|    1995|    DRP244|       AK|      null|    null|    null|     null|   null|    null|   null|     null|      null|      null|      null|      null|     null|      null|     null|     null|      null|      null|      null|      null|      null|     null|    null|    null|    null|     null|      null|      null|    null|    null|    null|    null|     null|    null|\n",
      "|AK_11100_01162020...|   AK|11100|01162020| 20212|     0|    5.0|    null|      Y|      null|      null|         N|       NNN|        N|      null|     null|      null|     null|       14|        00|       63|     null|      20|        3|        20|      null|        N|     null|     null|     null|     null|     null|     null|     null|null|null|      NNN|      NNN|     null|     null|        2|      49|      RR|           30|    1981|  AK 1281J|       AK| Rawson 30| Dickson|    null|     null|   null|      30|      2|     null|      null|      null|      null|      null|     null|      null|     null|     null|      null|      null|      null|      null|      null|     null|    null|    null|    null|     null|      null|      null|    null|    null|    null|    null|     null|    null|\n",
      "|AK_11100_01282020...|   AK|11100|01282020| 20347|     0|    5.0|       0|      Y|         0|         0|      null|      null|     null|      null|     null|      null|     null|       83|        41|       00|        1|      99|        2|        NN|      null|        N|     null|     null|     null|     null|     null|     null|     null|null|null|      NNN|      NNN|     null|     null|        2|      25|      KE|         T800|    2007|      null|       AK|      null|    null|    null|     null|   null|    null|   null|     null|      null|      null|      null|      null|     null|      null|     null|     null|      null|      null|      null|      null|      null|     null|    null|    null|    null|     null|      null|      null|    null|    null|    null|    null|     null|    null|\n",
      "|AK_11100_02082020...|   AK|11100|02082020| 20498|     0|    5.0|       2|      N|      null|         0|      null|      null|     null|      null|     null|      null|     null|       14|        81|       00|        1|      60|        2|        55|      null|        N|     null|     null|     null|     null|     null|     null|     null|null|null|      127|      NNN|     null|     null|        N|    null|    null|         null|    null|      null|     null|      null|    null|    null|     null|   null|      41|      2|     null|      null|      null|      null|      null|     null|      null|     null|     null|      null|      null|      null|      null|      null|     null|    null|    null|    null|     null|      null|      null|    null|    null|    null|    null|     null|    null|\n",
      "|AK_11100_02192020...|   AK|11100|02192020| 20657|     0|    5.0|       0|      Y|      null|         0|         N|       963|        N|      null|     null|      null|     null|       94|        UU|       96|     null|    null|        U|        UU|      null|        N|     null|     null|     null|     null|     null|     null|     null|null|null|      NNN|      NNN|     null|     null|        N|    null|    null|         null|    null|      null|     null|      null|    null|    null|     null|   null|    null|   null|     null|      null|      null|      null|      null|     null|      null|     null|     null|      null|      null|      null|      null|      null|     null|    null|    null|    null|     null|      null|      null|    null|    null|    null|    null|     null|    null|\n",
      "|AK_11100_03012020...|   AK|11100|03012020| 20836|     0|    5.0|    null|      Y|      null|      null|         Y|      null|     null|      null|     null|      null|     null|       90|        13|       86|        1|    null|        2|        60|      null|        N|     null|     null|     null|     null|     null|     null|     null|null|null|      211|      NNN|     null|     null|        N|    null|    null|         null|    null|      null|     null|      null|    null|    null|     null|   null|      10|      2|     null|      null|      null|      null|      null|     null|      null|     null|     null|      null|      null|      null|      null|      null|     null|    null|    null|    null|     null|      null|      null|    null|    null|    null|    null|     null|    null|\n",
      "|AK_11100_03162020...|   AK|11100|03162020|201029|     0|    5.0|       1|      N|      null|         0|      null|      null|     null|      null|     null|      null|     null|       21|        UU|       UU|     null|      UU|        5|        UU|      null|        N|     null|     null|     null|     null|     null|     null|     null|null|null|      NNN|      NNN|     null|     null|        N|    null|    null|         null|    null|      null|     null|      null|    null|    null|     null|   null|    null|   null|        4|         2|         2|         1|         0|     null|      null|      644|        1|         0|         0|         0|         1|         N|     null|    null|       U|    null|     null|      null|      null|    null|       N|    null|    null|     null|    null|\n",
      "|AK_11100_03272020...|   AK|11100|03272020|201174|     0|    5.0|       1|      N|         1|      null|         N|      null|     null|      null|     null|      null|     null|       14|        81|       44|     null|      63|        2|        55|      null|        N|     null|     null|     null|     null|     null|     null|     null|null|null|      NNN|      NNN|     null|     null|        N|    null|    null|         null|    null|      null|     null|      null|    null|    null|     null|   null|    null|   null|        4|         1|         2|         2|         1|     null|      null|     1893|        1|      null|      null|      null|      null|         Y|     null|    null|       U|    null|     null|      null|      null|    null|       N|    null|    null|     null|    null|\n",
      "|AK_11100_03292020...|   AK|11100|03292020|201215|     0|    5.0|    null|      Y|      null|      null|         Y|      null|     null|      null|     null|      null|     null|       94|        UU|       UU|        1|    null|        1|        UU|      null|     null|        2|     null|     null|     null|     null|     null|     null|null|null|      NNN|      NNN|     null|     null|        N|      NN|    null|         null|    null|      null|     null|      null|    null|    null|     null|   null|    null|   null|     null|      null|      null|      null|      null|     null|      null|     null|     null|      null|      null|      null|      null|      null|     null|    null|    null|    null|     null|      null|      null|    null|    null|    null|    null|     null|    null|\n",
      "|AK_11100_04042020...|   AK|11100|04042020|201290|     0|    5.0|       0|      N|         0|      null|         N|      null|     null|      null|     null|      null|     null|       81|        42|       UU|        1|      71|        2|        10|      null|        N|     null|     null|     null|     null|     null|     null|     null|null|null|      NNN|      NNN|     null|     null|        1|      41|      HB|         null|    null|      null|     null|      null|    null|    null|     null|   null|    null|   null|     null|      null|      null|      null|      null|     null|      null|     null|     null|      null|      null|      null|      null|      null|     null|    null|    null|    null|     null|      null|      null|    null|    null|    null|    null|     null|    null|\n",
      "|AK_11100_04042020...|   AK|11100|04042020|201294|     0|    5.0|       2|      N|         1|         0|      null|      null|     null|      null|     null|      null|     null|       47|        UU|       UU|     null|    null|        U|        UU|      null|        N|     null|     null|     null|     null|     null|     null|     null|null|null|     null|      NNN|     null|     null|        N|    null|    null|         null|    null|      null|     null|      null|    null|    null|     null|   null|      UU|      1|        3|         1|         2|         1|         0|     null|      null|    25000|        1|      null|      null|      null|      null|         Y|     null|    null|       U|    null|     null|      null|      null|    null|       N|    null|    null|     null|    null|\n",
      "|AK_11100_04162020...|   AK|11100|04162020|201454|     0|    5.0|    null|      N|      null|      null|         N|      null|     null|      null|     null|      null|     null|       46|        UU|       UU|        1|    null|        U|        UU|      null|        N|     null|     null|     null|     null|     null|     null|     null|null|null|      NNN|      NNN|     null|     null|        N|    null|    null|         null|    null|      null|     null|      null|    null|    null|     null|   null|      UU|      1|        1|         1|         2|         3|         0|     null|      null|    30000|        1|         1|      null|      null|      null|         N|     null|    null|       N|    null|     null|      null|      null|    null|       2|       1|       3|     null|    null|\n",
      "|AK_11100_04192020...|   AK|11100|04192020|201490|     0|    5.0|       0|      Y|      null|      null|         Y|      null|     null|      null|     null|      null|     null|       46|        UU|       UU|        1|      UU|        U|        UU|      null|        N|     null|     null|     null|     null|     null|     null|     null|null|null|      NNN|      NNN|     null|     null|        N|    null|    null|         null|    null|      null|     null|      null|    null|    null|     null|   null|    null|      2|     null|      null|      null|      null|      null|     null|      null|     null|     null|      null|      null|      null|      null|      null|     null|    null|    null|    null|     null|      null|      null|    null|    null|    null|    null|     null|    null|\n",
      "|AK_11100_04252020...|   AK|11100|04252020|201551|     0|    5.0|    null|      Y|      null|      null|         N|       NNN|        N|      null|     null|      null|     null|       UU|        UU|       UU|        1|      UU|        5|        UU|      null|        N|     null|     null|     null|     null|     null|     null|     null|null|null|      NNN|      NNN|     null|     null|        1|      11|      FO|Econoline 250|    null|    JBD531|       AK|      null|    null|    null|     null|   null|      UU|   null|     null|      null|      null|      null|      null|     null|      null|     null|     null|      null|      null|      null|      null|      null|     null|    null|    null|    null|     null|      null|      null|    null|    null|    null|    null|     null|    null|\n",
      "|AK_11100_04302020...|   AK|11100|04302020|201607|     0|    5.0|       1|      N|         0|         0|      null|      null|     null|      null|     null|      null|     null|       14|        11|       00|     null|      63|        2|        55|      null|        N|     null|     null|     null|     null|     null|     null|     null|null|null|      100|      NNN|     null|     null|        N|    null|    null|         null|    null|      null|     null|      null|    null|    null|     null|   null|      41|      2|     null|      null|      null|      null|      null|     null|      null|     null|     null|      null|      null|      null|      null|      null|     null|    null|    null|    null|     null|      null|      null|    null|    null|    null|    null|     null|    null|\n",
      "|AK_11100_05032020...|   AK|11100|05032020|201648|     0|    5.0|    null|      Y|      null|      null|         Y|      null|     null|      null|     null|      null|     null|       UU|        UU|       UU|     null|      UU|        1|        UU|      null|        N|     null|     null|     null|     null|     null|     null|     null|null|null|      NNN|      000|     null|     null|        3|      11|      OO|        Scion|    null|      null|       AK|      null|    null|    null|     null|   null|    null|   null|     null|      null|      null|      null|      null|     null|      null|     null|     null|      null|      null|      null|      null|      null|     null|    null|    null|    null|     null|      null|      null|    null|    null|    null|    null|     null|    null|\n",
      "|AK_11100_05112020...|   AK|11100|05112020|201751|     0|    5.0|       0|      N|      null|      null|         Y|      null|     null|      null|     null|      null|     null|       02|        63|       17|        1|      63|        2|        11|      null|        N|     null|     null|     null|     null|     null|     null|     null|null|null|      NNN|      NNN|     null|     null|        N|    null|    null|         null|    null|      null|     null|      null|    null|    null|     null|   null|    null|   null|     null|         0|      null|      null|      null|     null|      null|     null|     null|      null|      null|      null|      null|         Y|     null|    null|    null|    null|     null|      null|      null|    null|    null|    null|    null|     null|    null|\n",
      "|AK_11100_05232020...|   AK|11100|05232020|201914|     0|    5.0|       2|      N|         1|         0|         N|      null|     null|      null|     null|      null|     null|       02|        61|       12|     null|      41|        2|        11|      null|        N|     null|     null|     null|     null|     null|     null|     null|null|null|      NNN|      NNN|     null|     null|        N|    null|    null|         null|    null|      null|     null|      null|    null|    null|     null|   null|    null|   null|        2|         1|         2|         2|         1|     null|      null|     2204|        1|      null|      null|      null|      null|         N|     null|    null|       U|    null|     null|      null|      null|    null|       U|    null|    null|     null|    null|\n",
      "|AK_11100_06182020...|   AK|11100|06182020|202263|     0|    5.0|      12|      Y|         1|         0|      null|      null|     null|      null|     null|      null|     null|       25|        69|       18|        1|      65|        2|      null|      null|     null|     null|     null|     null|     null|     null|     null|     null|null|null|      331|     null|     null|     null|        N|    null|    null|         null|    null|      null|     null|      null|    null|    null|     null|   null|      22|      1|        1|         1|         2|         3|         0|     null|      null|     2100|        2|         1|      null|      null|      null|         Y|     null|    null|       1|       1|        1|         1|      null|    null|       N|    null|    null|     null|    null|\n",
      "|AK_11100_06222020...|   AK|11100|06222020|202316|     0|    5.0|       5|      N|         1|      null|         N|      null|     null|      null|     null|      null|     null|       26|        11|       94|     null|      UU|        2|        34|      null|        N|     null|     null|     null|     null|     null|     null|     null|null|null|      811|      NNN|     null|     null|        N|      UU|    null|         null|    null|      null|     null|      null|    null|    null|     null|   null|      11|      2|        2|         1|         2|         2|         0|     null|      null|      600|        1|      null|      null|      null|      null|         N|     null|    null|       1|       1|        4|         2|         1|    null|       N|    null|    null|     null|    null|\n",
      "+--------------------+-----+-----+--------+------+------+-------+--------+-------+----------+----------+----------+----------+---------+----------+---------+----------+---------+---------+----------+---------+---------+--------+---------+----------+----------+---------+---------+---------+---------+---------+---------+---------+---------+----+----+---------+---------+---------+---------+---------+--------+--------+-------------+--------+----------+---------+----------+--------+--------+---------+-------+--------+-------+---------+----------+----------+----------+----------+---------+----------+---------+---------+----------+----------+----------+----------+----------+---------+--------+--------+--------+---------+----------+----------+--------+--------+--------+--------+---------+--------+\n",
      "only showing top 20 rows\n",
      "\n"
     ]
    }
   ],
   "source": [
    "ignition_cause.show()"
   ]
  },
  {
   "cell_type": "code",
   "execution_count": 193,
   "metadata": {},
   "outputs": [
    {
     "name": "stdout",
     "output_type": "stream",
     "text": [
      "+---------+------+\n",
      "|CAUSE_IGN| count|\n",
      "+---------+------+\n",
      "|        3| 56107|\n",
      "|        0|  8401|\n",
      "|        5| 55852|\n",
      "|        U|110306|\n",
      "|        1| 67296|\n",
      "|        4| 11135|\n",
      "|        2|232727|\n",
      "+---------+------+\n",
      "\n"
     ]
    }
   ],
   "source": [
    "ignition_cause = ignition_cause.groupBy(\"CAUSE_IGN\").count()\n",
    "ignition_cause.show()"
   ]
  },
  {
   "cell_type": "code",
   "execution_count": 224,
   "metadata": {},
   "outputs": [],
   "source": [
    "p_ignition_cause = ignition_cause.toPandas()\n",
    "p_ignition_cause[\"count\"] = p_ignition_cause[\"count\"]/1e03\n",
    "# p_cause_loss_df[\"DLR_LOSS\"]/1e05"
   ]
  },
  {
   "cell_type": "code",
   "execution_count": 226,
   "metadata": {},
   "outputs": [
    {
     "data": {
      "image/png": "[encoded data removed]",
      "text/plain": [
       "<Figure size 432x288 with 1 Axes>"
      ]
     },
     "metadata": {
      "needs_background": "light"
     },
     "output_type": "display_data"
    }
   ],
   "source": [
    "ptest = p_ignition_cause.sort_values(by=\"CAUSE_IGN\").plot(x=\"CAUSE_IGN\", y=\"count\", xlabel=\"Cause of Ignition\", ylabel = \"Number of Fire Incidents in thousands\", legend = False, kind=\"bar\")\n",
    "fig1 = ptest.get_figure()\n",
    "fig1.savefig(\"cause_ignition_number.png\")"
   ]
  },
  {
   "cell_type": "code",
   "execution_count": 4,
   "metadata": {},
   "outputs": [],
   "source": [
    "save_in_db(\"fig1\", \"p1\")"
   ]
  },
  {
   "cell_type": "code",
   "execution_count": null,
   "metadata": {},
   "outputs": [],
   "source": []
  }
 ],
 "metadata": {
  "kernelspec": {
   "display_name": "Python 3 (ipykernel)",
   "language": "python",
   "name": "python3"
  },
  "language_info": {
   "codemirror_mode": {
    "name": "ipython",
    "version": 3
   },
   "file_extension": ".py",
   "mimetype": "text/x-python",
   "name": "python",
   "nbconvert_exporter": "python",
   "pygments_lexer": "ipython3",
   "version": "3.9.12"
  },
  "vscode": {
   "interpreter": {
    "hash": "b9c0864c2c82c846553bd2c7001efc514f6abb49eba1568752f97689e9c7c0e4"
   }
  }
 },
 "nbformat": 4,
 "nbformat_minor": 2
}
