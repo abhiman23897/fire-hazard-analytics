{
 "cells": [
  {
   "cell_type": "markdown",
   "metadata": {},
   "source": [
    "# Fire Hazard Incidents Analytics Pipeline"
   ]
  },
  {
   "cell_type": "markdown",
   "metadata": {},
   "source": [
    "## Importing Required Libraries"
   ]
  },
  {
   "cell_type": "code",
   "execution_count": 1,
   "metadata": {},
   "outputs": [],
   "source": [
    "from pyspark.sql import SparkSession\n",
    "from pyspark.sql import functions as F"
   ]
  },
  {
   "cell_type": "markdown",
   "metadata": {},
   "source": [
    "## Creating Spark Session and using all available cores"
   ]
  },
  {
   "cell_type": "code",
   "execution_count": 2,
   "metadata": {},
   "outputs": [],
   "source": [
    "spark = SparkSession \\\n",
    "    .builder \\\n",
    "    .appName(\"532: Project\") \\\n",
    "    .config(\"local[*]\") \\\n",
    "    .getOrCreate()"
   ]
  },
  {
   "cell_type": "markdown",
   "metadata": {},
   "source": [
    "## Loading civilian casuality, firefighter casuality and basic module data"
   ]
  },
  {
   "cell_type": "code",
   "execution_count": 3,
   "metadata": {},
   "outputs": [],
   "source": [
    "civilian_casualities_df = spark.read.options(delimiter=\"^\", header=True).csv(\"civiliancasualty.txt\")\n",
    "firefighter_casualities_df = spark.read.options(delimiter=\"^\", header=True).csv(\"ffcasualty.txt\")\n",
    "basic_module_df = spark.read.options(delimiter=\"^\", header=True).csv(\"basicincident.txt\")"
   ]
  },
  {
   "cell_type": "code",
   "execution_count": 4,
   "metadata": {},
   "outputs": [
    {
     "name": "stdout",
     "output_type": "stream",
     "text": [
      "root\n",
      " |-- INCIDENT_KEY: string (nullable = true)\n",
      " |-- STATE: string (nullable = true)\n",
      " |-- FDID: string (nullable = true)\n",
      " |-- INC_DATE: string (nullable = true)\n",
      " |-- INC_NO: string (nullable = true)\n",
      " |-- EXP_NO: string (nullable = true)\n",
      " |-- VERSION: string (nullable = true)\n",
      " |-- DEPT_STA: string (nullable = true)\n",
      " |-- INC_TYPE: string (nullable = true)\n",
      " |-- ADD_WILD: string (nullable = true)\n",
      " |-- AID: string (nullable = true)\n",
      " |-- ALARM: string (nullable = true)\n",
      " |-- ARRIVAL: string (nullable = true)\n",
      " |-- INC_CONT: string (nullable = true)\n",
      " |-- LU_CLEAR: string (nullable = true)\n",
      " |-- SHIFT: string (nullable = true)\n",
      " |-- ALARMS: string (nullable = true)\n",
      " |-- DISTRICT: string (nullable = true)\n",
      " |-- ACT_TAK1: string (nullable = true)\n",
      " |-- ACT_TAK2: string (nullable = true)\n",
      " |-- ACT_TAK3: string (nullable = true)\n",
      " |-- APP_MOD: string (nullable = true)\n",
      " |-- SUP_APP: string (nullable = true)\n",
      " |-- EMS_APP: string (nullable = true)\n",
      " |-- OTH_APP: string (nullable = true)\n",
      " |-- SUP_PER: string (nullable = true)\n",
      " |-- EMS_PER: string (nullable = true)\n",
      " |-- OTH_PER: string (nullable = true)\n",
      " |-- RESOU_AID: string (nullable = true)\n",
      " |-- PROP_LOSS: string (nullable = true)\n",
      " |-- CONT_LOSS: string (nullable = true)\n",
      " |-- PROP_VAL: string (nullable = true)\n",
      " |-- CONT_VAL: string (nullable = true)\n",
      " |-- FF_DEATH: string (nullable = true)\n",
      " |-- OTH_DEATH: string (nullable = true)\n",
      " |-- FF_INJ: string (nullable = true)\n",
      " |-- OTH_INJ: string (nullable = true)\n",
      " |-- DET_ALERT: string (nullable = true)\n",
      " |-- HAZ_REL: string (nullable = true)\n",
      " |-- MIXED_USE: string (nullable = true)\n",
      " |-- PROP_USE: string (nullable = true)\n",
      " |-- CENSUS: string (nullable = true)\n",
      "\n"
     ]
    }
   ],
   "source": [
    "basic_module_df.printSchema()"
   ]
  },
  {
   "cell_type": "code",
   "execution_count": 5,
   "metadata": {},
   "outputs": [],
   "source": [
    "total_loss = basic_module_df.groupBy(\"INCIDENT_KEY\").agg(F.sum(basic_module_df.PROP_LOSS + basic_module_df.CONT_LOSS).alias(\"TOTAL_LOSS\")).na.drop()"
   ]
  },
  {
   "cell_type": "code",
   "execution_count": 6,
   "metadata": {},
   "outputs": [],
   "source": [
    "civilian_severity = civilian_casualities_df.select(\"INCIDENT_KEY\",\"SEV\")\n",
    "ff_severity = firefighter_casualities_df.select(\"INCIDENT_KEY\",\"SEVERITY\")"
   ]
  },
  {
   "cell_type": "code",
   "execution_count": 7,
   "metadata": {},
   "outputs": [],
   "source": [
    "civilian_dollar_loss = total_loss.join(civilian_severity, total_loss.INCIDENT_KEY == civilian_severity.INCIDENT_KEY)\n",
    "firefighter_dollar_loss = total_loss.join(ff_severity, total_loss.INCIDENT_KEY == ff_severity.INCIDENT_KEY)"
   ]
  },
  {
   "cell_type": "code",
   "execution_count": 8,
   "metadata": {},
   "outputs": [
    {
     "name": "stdout",
     "output_type": "stream",
     "text": [
      "+---+------------------+\n",
      "|SEV|          AVG_LOSS|\n",
      "+---+------------------+\n",
      "|  3|  79483.0781527531|\n",
      "|  5|183130.81066268063|\n",
      "|  U|         49871.625|\n",
      "|  1| 72752.35869242199|\n",
      "|  4| 64030.51603498542|\n",
      "|  2| 72601.71149966375|\n",
      "+---+------------------+\n",
      "\n"
     ]
    }
   ],
   "source": [
    "civilian_dollar_loss.groupBy(\"SEV\").agg(F.avg(\"TOTAL_LOSS\").alias(\"AVG_LOSS\")).show()"
   ]
  },
  {
   "cell_type": "code",
   "execution_count": 9,
   "metadata": {},
   "outputs": [
    {
     "name": "stdout",
     "output_type": "stream",
     "text": [
      "+--------+------------------+\n",
      "|SEVERITY|          AVG_LOSS|\n",
      "+--------+------------------+\n",
      "|       7|       5669414.375|\n",
      "|       3|202613.09714889125|\n",
      "|       5| 99906.39583333333|\n",
      "|       U|103815.78947368421|\n",
      "|       6|3003931.7647058824|\n",
      "|       1|155121.58772949106|\n",
      "|       4|200074.46902654867|\n",
      "|       2|189474.27731092437|\n",
      "+--------+------------------+\n",
      "\n"
     ]
    }
   ],
   "source": [
    "firefighter_dollar_loss.groupBy(\"SEVERITY\").agg(F.avg(\"TOTAL_LOSS\").alias(\"AVG_LOSS\")).show()"
   ]
  },
  {
   "cell_type": "code",
   "execution_count": 10,
   "metadata": {},
   "outputs": [],
   "source": [
    "basic_time_module_df = basic_module_df.withColumn(\"ALARM_TIME\", F.to_timestamp(\"ALARM\",\"MMddyyyyHHmm\")).withColumn(\"CONT_TIME\", F.to_timestamp(\"INC_CONT\",\"MMddyyyyHHmm\")).withColumn(\"ARV_TIME\", F.to_timestamp(\"ARRIVAL\",\"MMddyyyyHHmm\"))"
   ]
  },
  {
   "cell_type": "code",
   "execution_count": 11,
   "metadata": {},
   "outputs": [],
   "source": [
    "response_time = basic_time_module_df.withColumn(\"RESPONSE_TIME\", basic_time_module_df.CONT_TIME.cast(\"long\") - basic_time_module_df.ALARM_TIME.cast(\"long\"))\n",
    "\n",
    "civilian_casualty_response_time = response_time.join(civilian_casualities_df, response_time.INCIDENT_KEY == civilian_casualities_df.INCIDENT_KEY)"
   ]
  },
  {
   "cell_type": "code",
   "execution_count": 12,
   "metadata": {},
   "outputs": [
    {
     "name": "stdout",
     "output_type": "stream",
     "text": [
      "+---+------------------+\n",
      "|SEV|      AVG_RSP_TIME|\n",
      "+---+------------------+\n",
      "|  3|3311.3513513513512|\n",
      "|  5|55352.130384167634|\n",
      "|  U| 4580.606060606061|\n",
      "|  1|3214.5323741007196|\n",
      "|  4| 3255.205479452055|\n",
      "|  2|3411.1973018549747|\n",
      "+---+------------------+\n",
      "\n"
     ]
    }
   ],
   "source": [
    "civilian_casualty_response_time.groupBy(\"SEV\").agg(F.avg(\"RESPONSE_TIME\").alias(\"AVG_RSP_TIME\")).select(\"SEV\",\"AVG_RSP_TIME\").show()"
   ]
  },
  {
   "cell_type": "code",
   "execution_count": 13,
   "metadata": {},
   "outputs": [],
   "source": [
    "ff_response_time = basic_time_module_df.withColumn(\"FF_RESPONSE_TIME\", basic_time_module_df.CONT_TIME.cast(\"long\") - basic_time_module_df.ARV_TIME.cast(\"long\"))\n",
    "\n",
    "ff_severity_response_time = ff_response_time.join(firefighter_casualities_df, ff_response_time.INCIDENT_KEY == firefighter_casualities_df.INCIDENT_KEY)"
   ]
  },
  {
   "cell_type": "code",
   "execution_count": 14,
   "metadata": {},
   "outputs": [
    {
     "name": "stdout",
     "output_type": "stream",
     "text": [
      "+--------+------------------+\n",
      "|SEVERITY|      AVG_RSP_TIME|\n",
      "+--------+------------------+\n",
      "|       7|         1247962.5|\n",
      "|       3|14811.670588235294|\n",
      "|       5|            5880.0|\n",
      "|       U|           74915.0|\n",
      "|       6|          242410.0|\n",
      "|       1| 14919.53038674033|\n",
      "|       4| 70525.73394495413|\n",
      "|       2| 6535.170278637771|\n",
      "+--------+------------------+\n",
      "\n"
     ]
    }
   ],
   "source": [
    "ff_severity_response_time.groupBy(\"SEVERITY\").agg(F.avg(\"FF_RESPONSE_TIME\").alias(\"AVG_RSP_TIME\")).select(\"SEVERITY\",\"AVG_RSP_TIME\").show()"
   ]
  }
 ],
 "metadata": {
  "kernelspec": {
   "display_name": "Python 3 (ipykernel)",
   "language": "python",
   "name": "python3"
  },
  "language_info": {
   "codemirror_mode": {
    "name": "ipython",
    "version": 3
   },
   "file_extension": ".py",
   "mimetype": "text/x-python",
   "name": "python",
   "nbconvert_exporter": "python",
   "pygments_lexer": "ipython3",
   "version": "3.9.12"
  },
  "vscode": {
   "interpreter": {
    "hash": "b9c0864c2c82c846553bd2c7001efc514f6abb49eba1568752f97689e9c7c0e4"
   }
  }
 },
 "nbformat": 4,
 "nbformat_minor": 2
}
