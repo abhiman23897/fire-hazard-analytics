{
 "cells": [
  {
   "cell_type": "markdown",
   "metadata": {},
   "source": [
    "# Fire Hazard Incidents Analytics Pipeline"
   ]
  },
  {
   "cell_type": "markdown",
   "metadata": {},
   "source": [
    "## Importing Required Libraries"
   ]
  },
  {
   "cell_type": "code",
   "execution_count": 1,
   "metadata": {},
   "outputs": [],
   "source": [
    "from pyspark.sql import SparkSession\n",
    "from pyspark.sql import functions as F"
   ]
  },
  {
   "cell_type": "markdown",
   "metadata": {},
   "source": [
    "## Creating Spark Session and using all available cores"
   ]
  },
  {
   "cell_type": "code",
   "execution_count": 2,
   "metadata": {},
   "outputs": [],
   "source": [
    "spark = SparkSession \\\n",
    "    .builder \\\n",
    "    .appName(\"532: Project\") \\\n",
    "    .config(\"local[*]\") \\\n",
    "    .getOrCreate()"
   ]
  },
  {
   "cell_type": "markdown",
   "metadata": {},
   "source": [
    "## Loading civilian casuality, firefighter casuality and basic module data"
   ]
  },
  {
   "cell_type": "code",
   "execution_count": 6,
   "metadata": {},
   "outputs": [],
   "source": [
    "civilian_casualities_df = spark.read.options(delimiter=\"^\", header=True).csv(\"civiliancasualty.txt\")\n",
    "firefighter_casualities_df = spark.read.options(delimiter=\"^\", header=True).csv(\"ffcasualty.txt\")\n",
    "basic_module_df = spark.read.options(delimiter=\"^\", header=True).csv(\"basicincident.txt\")"
   ]
  },
  {
   "cell_type": "code",
   "execution_count": 9,
   "metadata": {},
   "outputs": [],
   "source": [
    "basic_module_df = basic_module_df.na.drop(subset=(\"PROP_LOSS\",\"CONT_LOSS\"))\n",
    "total_loss = basic_module_df.groupBy(\"INCIDENT_KEY\").agg(F.sum(basic_module_df.PROP_LOSS + basic_module_df.CONT_LOSS).alias(\"TOTAL_LOSS\"))"
   ]
  },
  {
   "cell_type": "code",
   "execution_count": 11,
   "metadata": {},
   "outputs": [],
   "source": [
    "civilian_severity = civilian_casualities_df.select(\"INCIDENT_KEY\",\"SEV\")\n",
    "ff_severity = firefighter_casualities_df.select(\"INCIDENT_KEY\",\"SEVERITY\")"
   ]
  },
  {
   "cell_type": "code",
   "execution_count": 12,
   "metadata": {},
   "outputs": [],
   "source": [
    "civilian_dollar_loss = total_loss.join(civilian_severity, total_loss.INCIDENT_KEY == civilian_severity.INCIDENT_KEY)\n",
    "firefighter_dollar_loss = total_loss.join(ff_severity, total_loss.INCIDENT_KEY == ff_severity.INCIDENT_KEY)"
   ]
  },
  {
   "cell_type": "code",
   "execution_count": 13,
   "metadata": {},
   "outputs": [
    {
     "name": "stdout",
     "output_type": "stream",
     "text": [
      "+---+------------------+\n",
      "|SEV|          AVG_LOSS|\n",
      "+---+------------------+\n",
      "|  3|  79483.0781527531|\n",
      "|  5|183130.81066268063|\n",
      "|  U|         49871.625|\n",
      "|  1| 72752.35869242199|\n",
      "|  4| 64030.51603498542|\n",
      "|  2| 72601.71149966375|\n",
      "+---+------------------+\n",
      "\n"
     ]
    }
   ],
   "source": [
    "civilian_dollar_loss.groupBy(\"SEV\").agg(F.avg(\"TOTAL_LOSS\").alias(\"AVG_LOSS\")).show()"
   ]
  },
  {
   "cell_type": "code",
   "execution_count": 14,
   "metadata": {},
   "outputs": [
    {
     "name": "stdout",
     "output_type": "stream",
     "text": [
      "+--------+------------------+\n",
      "|SEVERITY|          AVG_LOSS|\n",
      "+--------+------------------+\n",
      "|       7|       5669414.375|\n",
      "|       3|202613.09714889125|\n",
      "|       5| 99906.39583333333|\n",
      "|       U|103815.78947368421|\n",
      "|       6|3003931.7647058824|\n",
      "|       1|155121.58772949106|\n",
      "|       4|200074.46902654867|\n",
      "|       2|189474.27731092437|\n",
      "+--------+------------------+\n",
      "\n"
     ]
    }
   ],
   "source": [
    "firefighter_dollar_loss.groupBy(\"SEVERITY\").agg(F.avg(\"TOTAL_LOSS\").alias(\"AVG_LOSS\")).show()"
   ]
  },
  {
   "cell_type": "code",
   "execution_count": 15,
   "metadata": {},
   "outputs": [],
   "source": [
    "basic_time_module_df = basic_module_df.withColumn(\"ALARM_TIME\", F.to_timestamp(\"ALARM\",\"MMddyyyyHHmm\")).withColumn(\"CONT_TIME\", F.to_timestamp(\"INC_CONT\",\"MMddyyyyHHmm\")).withColumn(\"ARV_TIME\", F.to_timestamp(\"ARRIVAL\",\"MMddyyyyHHmm\"))"
   ]
  },
  {
   "cell_type": "code",
   "execution_count": 16,
   "metadata": {},
   "outputs": [],
   "source": [
    "response_time = basic_time_module_df.withColumn(\"RESPONSE_TIME\", basic_time_module_df.CONT_TIME.cast(\"long\") - basic_time_module_df.ALARM_TIME.cast(\"long\"))\n",
    "\n",
    "civilian_casualty_response_time = response_time.join(civilian_casualities_df, response_time.INCIDENT_KEY == civilian_casualities_df.INCIDENT_KEY)"
   ]
  },
  {
   "cell_type": "code",
   "execution_count": 17,
   "metadata": {},
   "outputs": [
    {
     "name": "stdout",
     "output_type": "stream",
     "text": [
      "+---+------------------+\n",
      "|SEV|      AVG_RSP_TIME|\n",
      "+---+------------------+\n",
      "|  3|3327.0697674418607|\n",
      "|  5| 57596.78048780488|\n",
      "|  U| 4558.762886597938|\n",
      "|  1| 3235.604938271605|\n",
      "|  4| 3184.255319148936|\n",
      "|  2|3451.0526315789475|\n",
      "+---+------------------+\n",
      "\n"
     ]
    }
   ],
   "source": [
    "civilian_casualty_response_time.groupBy(\"SEV\").agg(F.avg(\"RESPONSE_TIME\").alias(\"AVG_RSP_TIME\")).select(\"SEV\",\"AVG_RSP_TIME\").show()"
   ]
  },
  {
   "cell_type": "code",
   "execution_count": 18,
   "metadata": {},
   "outputs": [],
   "source": [
    "ff_response_time = basic_time_module_df.withColumn(\"FF_RESPONSE_TIME\", basic_time_module_df.CONT_TIME.cast(\"long\") - basic_time_module_df.ARV_TIME.cast(\"long\"))\n",
    "\n",
    "ff_severity_response_time = ff_response_time.join(firefighter_casualities_df, ff_response_time.INCIDENT_KEY == firefighter_casualities_df.INCIDENT_KEY)"
   ]
  },
  {
   "cell_type": "code",
   "execution_count": 19,
   "metadata": {},
   "outputs": [
    {
     "name": "stdout",
     "output_type": "stream",
     "text": [
      "+--------+------------------+\n",
      "|SEVERITY|      AVG_RSP_TIME|\n",
      "+--------+------------------+\n",
      "|       7|         1662820.0|\n",
      "|       3|15369.195979899498|\n",
      "|       5|            5880.0|\n",
      "|       U|           74915.0|\n",
      "|       6|          290688.0|\n",
      "|       1|14545.226781857451|\n",
      "|       4| 74654.48780487805|\n",
      "|       2| 6510.491803278688|\n",
      "+--------+------------------+\n",
      "\n"
     ]
    }
   ],
   "source": [
    "ff_severity_response_time.groupBy(\"SEVERITY\").agg(F.avg(\"FF_RESPONSE_TIME\").alias(\"AVG_RSP_TIME\")).select(\"SEVERITY\",\"AVG_RSP_TIME\").show()"
   ]
  },
  {
   "cell_type": "code",
   "execution_count": 20,
   "metadata": {},
   "outputs": [],
   "source": [
    "fire_incidents_df = spark.read.options(delimiter=\"^\", header=True).csv(\"fireincident.txt\")"
   ]
  },
  {
   "cell_type": "code",
   "execution_count": 21,
   "metadata": {},
   "outputs": [
    {
     "name": "stdout",
     "output_type": "stream",
     "text": [
      "root\n",
      " |-- INCIDENT_KEY: string (nullable = true)\n",
      " |-- STATE: string (nullable = true)\n",
      " |-- FDID: string (nullable = true)\n",
      " |-- INC_DATE: string (nullable = true)\n",
      " |-- INC_NO: string (nullable = true)\n",
      " |-- EXP_NO: string (nullable = true)\n",
      " |-- VERSION: string (nullable = true)\n",
      " |-- NUM_UNIT: string (nullable = true)\n",
      " |-- NOT_RES: string (nullable = true)\n",
      " |-- BLDG_INVOL: string (nullable = true)\n",
      " |-- ACRES_BURN: string (nullable = true)\n",
      " |-- LESS_1ACRE: string (nullable = true)\n",
      " |-- ON_SITE_M1: string (nullable = true)\n",
      " |-- MAT_STOR1: string (nullable = true)\n",
      " |-- ON_SITE_M2: string (nullable = true)\n",
      " |-- MAT_STOR2: string (nullable = true)\n",
      " |-- ON_SITE_M3: string (nullable = true)\n",
      " |-- MAT_STOR3: string (nullable = true)\n",
      " |-- AREA_ORIG: string (nullable = true)\n",
      " |-- HEAT_SOURC: string (nullable = true)\n",
      " |-- FIRST_IGN: string (nullable = true)\n",
      " |-- CONF_ORIG: string (nullable = true)\n",
      " |-- TYPE_MAT: string (nullable = true)\n",
      " |-- CAUSE_IGN: string (nullable = true)\n",
      " |-- FACT_IGN_1: string (nullable = true)\n",
      " |-- FACT_IGN_2: string (nullable = true)\n",
      " |-- HUM_FAC_1: string (nullable = true)\n",
      " |-- HUM_FAC_2: string (nullable = true)\n",
      " |-- HUM_FAC_3: string (nullable = true)\n",
      " |-- HUM_FAC_4: string (nullable = true)\n",
      " |-- HUM_FAC_5: string (nullable = true)\n",
      " |-- HUM_FAC_6: string (nullable = true)\n",
      " |-- HUM_FAC_7: string (nullable = true)\n",
      " |-- HUM_FAC_8: string (nullable = true)\n",
      " |-- AGE: string (nullable = true)\n",
      " |-- SEX: string (nullable = true)\n",
      " |-- EQUIP_INV: string (nullable = true)\n",
      " |-- SUP_FAC_1: string (nullable = true)\n",
      " |-- SUP_FAC_2: string (nullable = true)\n",
      " |-- SUP_FAC_3: string (nullable = true)\n",
      " |-- MOB_INVOL: string (nullable = true)\n",
      " |-- MOB_TYPE: string (nullable = true)\n",
      " |-- MOB_MAKE: string (nullable = true)\n",
      " |-- MOB_MODEL: string (nullable = true)\n",
      " |-- MOB_YEAR: string (nullable = true)\n",
      " |-- MOB_LIC_PL: string (nullable = true)\n",
      " |-- MOB_STATE: string (nullable = true)\n",
      " |-- MOB_VIN_NO: string (nullable = true)\n",
      " |-- EQ_BRAND: string (nullable = true)\n",
      " |-- EQ_MODEL: string (nullable = true)\n",
      " |-- EQ_SER_NO: string (nullable = true)\n",
      " |-- EQ_YEAR: string (nullable = true)\n",
      " |-- EQ_POWER: string (nullable = true)\n",
      " |-- EQ_PORT: string (nullable = true)\n",
      " |-- FIRE_SPRD: string (nullable = true)\n",
      " |-- STRUC_TYPE: string (nullable = true)\n",
      " |-- STRUC_STAT: string (nullable = true)\n",
      " |-- BLDG_ABOVE: string (nullable = true)\n",
      " |-- BLDG_BELOW: string (nullable = true)\n",
      " |-- BLDG_LGTH: string (nullable = true)\n",
      " |-- BLDG_WIDTH: string (nullable = true)\n",
      " |-- TOT_SQ_FT: string (nullable = true)\n",
      " |-- FIRE_ORIG: string (nullable = true)\n",
      " |-- ST_DAM_MIN: string (nullable = true)\n",
      " |-- ST_DAM_SIG: string (nullable = true)\n",
      " |-- ST_DAM_HVY: string (nullable = true)\n",
      " |-- ST_DAM_XTR: string (nullable = true)\n",
      " |-- FLAME_SPRD: string (nullable = true)\n",
      " |-- ITEM_SPRD: string (nullable = true)\n",
      " |-- MAT_SPRD: string (nullable = true)\n",
      " |-- DETECTOR: string (nullable = true)\n",
      " |-- DET_TYPE: string (nullable = true)\n",
      " |-- DET_POWER: string (nullable = true)\n",
      " |-- DET_OPERAT: string (nullable = true)\n",
      " |-- DET_EFFECT: string (nullable = true)\n",
      " |-- DET_FAIL: string (nullable = true)\n",
      " |-- AES_PRES: string (nullable = true)\n",
      " |-- AES_TYPE: string (nullable = true)\n",
      " |-- AES_OPER: string (nullable = true)\n",
      " |-- NO_SPR_OP: string (nullable = true)\n",
      " |-- AES_FAIL: string (nullable = true)\n",
      "\n"
     ]
    }
   ],
   "source": [
    "fire_incidents_df.printSchema()"
   ]
  },
  {
   "cell_type": "code",
   "execution_count": 22,
   "metadata": {
    "scrolled": false
   },
   "outputs": [
    {
     "name": "stdout",
     "output_type": "stream",
     "text": [
      "+---------+\n",
      "|CAUSE_IGN|\n",
      "+---------+\n",
      "|        3|\n",
      "|        0|\n",
      "|        5|\n",
      "|        U|\n",
      "|        1|\n",
      "|        4|\n",
      "|        2|\n",
      "+---------+\n",
      "\n"
     ]
    }
   ],
   "source": [
    "ignition_cause = fire_incidents_df.select(\"INCIDENT_KEY\",\"CAUSE_IGN\")\n",
    "ignition_cause = ignition_cause.na.drop(subset=(\"CAUSE_IGN\"))\n",
    "ignition_cause.select('CAUSE_IGN').distinct().show()"
   ]
  },
  {
   "cell_type": "code",
   "execution_count": 23,
   "metadata": {},
   "outputs": [],
   "source": [
    "ignition_cause_vs_loss = total_loss.join(ignition_cause, total_loss.INCIDENT_KEY == ignition_cause.INCIDENT_KEY)"
   ]
  },
  {
   "cell_type": "code",
   "execution_count": 24,
   "metadata": {
    "scrolled": true
   },
   "outputs": [
    {
     "name": "stdout",
     "output_type": "stream",
     "text": [
      "+---------+------------------+\n",
      "|CAUSE_IGN|          AVG_LOSS|\n",
      "+---------+------------------+\n",
      "|        3|15242.249057862919|\n",
      "|        0| 35729.22572246811|\n",
      "|        5| 51502.80952183813|\n",
      "|        U|13574.973333618687|\n",
      "|        1|  9201.64097173145|\n",
      "|        4| 43640.38177635527|\n",
      "|        2|12956.953294596438|\n",
      "+---------+------------------+\n",
      "\n"
     ]
    }
   ],
   "source": [
    "ignition_cause_vs_loss.groupBy(\"CAUSE_IGN\").agg(F.avg(\"TOTAL_LOSS\").alias(\"AVG_LOSS\")).show()"
   ]
  },
  {
   "cell_type": "markdown",
   "metadata": {},
   "source": [
    "month vs major states vs types of fire"
   ]
  },
  {
   "cell_type": "code",
   "execution_count": 25,
   "metadata": {},
   "outputs": [
    {
     "name": "stdout",
     "output_type": "stream",
     "text": [
      "+-----+------+\n",
      "|STATE| count|\n",
      "+-----+------+\n",
      "|   CA|144036|\n",
      "|   TX| 94231|\n",
      "|   PA| 92031|\n",
      "|   FL| 69808|\n",
      "|   OH| 69475|\n",
      "|   NY| 62552|\n",
      "|   IL| 55041|\n",
      "|   GA| 51846|\n",
      "|   NC| 51489|\n",
      "|   MI| 50708|\n",
      "|   MA| 50192|\n",
      "|   IN| 37987|\n",
      "|   VA| 36658|\n",
      "|   SC| 35597|\n",
      "|   MN| 34495|\n",
      "|   TN| 34084|\n",
      "|   WA| 33666|\n",
      "|   NJ| 29644|\n",
      "|   OK| 26207|\n",
      "|   CO| 25135|\n",
      "+-----+------+\n",
      "only showing top 20 rows\n",
      "\n"
     ]
    }
   ],
   "source": [
    "from pyspark.sql.functions import sum, col, desc\n",
    "\n",
    "incident_state = basic_module_df.select(\"INCIDENT_KEY\", \"STATE\", \"INC_DATE\")\n",
    "incident_state.groupBy('STATE').count().sort(desc(\"count\")).show()\n",
    "\n",
    "# selecting top 10 states\n",
    "incident_state = incident_state.withColumn(\"INC_MONTH\", F.month(F.to_date(incident_state.INC_DATE,\"MMddyyyy\")))\n",
    "\n",
    "incidents_ca = incident_state.filter(incident_state.STATE == \"CA\").groupBy(\"INC_MONTH\").count()\n",
    "incidents_tx = incident_state.filter(incident_state.STATE == \"TX\").groupBy(\"INC_MONTH\").count()\n",
    "incidents_pa = incident_state.filter(incident_state.STATE == \"PA\").groupBy(\"INC_MONTH\").count()\n",
    "incidents_fl = incident_state.filter(incident_state.STATE == \"FL\").groupBy(\"INC_MONTH\").count()\n",
    "incidents_oh = incident_state.filter(incident_state.STATE == \"OH\").groupBy(\"INC_MONTH\").count()\n",
    "incidents_ny = incident_state.filter(incident_state.STATE == \"NY\").groupBy(\"INC_MONTH\").count()\n",
    "incidents_il = incident_state.filter(incident_state.STATE == \"IL\").groupBy(\"INC_MONTH\").count()\n",
    "incidents_ga = incident_state.filter(incident_state.STATE == \"GA\").groupBy(\"INC_MONTH\").count()\n",
    "incidents_nc = incident_state.filter(incident_state.STATE == \"NC\").groupBy(\"INC_MONTH\").count()\n",
    "incidents_mi = incident_state.filter(incident_state.STATE == \"MI\").groupBy(\"INC_MONTH\").count()\n",
    "incidents_ma = incident_state.filter(incident_state.STATE == \"MA\").groupBy(\"INC_MONTH\").count()\n",
    "\n",
    "# incidents_ca.show()\n",
    "# incidents_tx.show()\n",
    "# incidents_ma.show()"
   ]
  },
  {
   "cell_type": "code",
   "execution_count": 26,
   "metadata": {},
   "outputs": [
    {
     "name": "stdout",
     "output_type": "stream",
     "text": [
      "+--------+\n",
      "|INC_TYPE|\n",
      "+--------+\n",
      "|     451|\n",
      "|     462|\n",
      "|     442|\n",
      "|     155|\n",
      "|     132|\n",
      "|     154|\n",
      "|     422|\n",
      "|     138|\n",
      "|     424|\n",
      "|     112|\n",
      "|     113|\n",
      "|     443|\n",
      "|     133|\n",
      "|     162|\n",
      "|     160|\n",
      "|     423|\n",
      "|     171|\n",
      "|     441|\n",
      "|     410|\n",
      "|     110|\n",
      "+--------+\n",
      "only showing top 20 rows\n",
      "\n"
     ]
    }
   ],
   "source": [
    "incident_type = basic_module_df.select(\"INCIDENT_KEY\", \"INC_TYPE\")\n",
    "incident_type.select(\"INC_TYPE\").distinct().show()"
   ]
  },
  {
   "cell_type": "code",
   "execution_count": 27,
   "metadata": {},
   "outputs": [
    {
     "name": "stdout",
     "output_type": "stream",
     "text": [
      "+-----+\n",
      "|count|\n",
      "+-----+\n",
      "| 5204|\n",
      "|13129|\n",
      "|10176|\n",
      "|  486|\n",
      "|11483|\n",
      "|29130|\n",
      "| 4091|\n",
      "| 7267|\n",
      "|40593|\n",
      "| 9961|\n",
      "|77983|\n",
      "| 1428|\n",
      "|  369|\n",
      "| 7580|\n",
      "|10694|\n",
      "|  577|\n",
      "| 1942|\n",
      "|10260|\n",
      "| 3354|\n",
      "|  178|\n",
      "+-----+\n",
      "only showing top 20 rows\n",
      "\n"
     ]
    },
    {
     "data": {
      "text/plain": [
       "72"
      ]
     },
     "execution_count": 27,
     "metadata": {},
     "output_type": "execute_result"
    }
   ],
   "source": [
    "incident_type_count = incident_type.groupBy('INC_TYPE').count().select(\"count\")\n",
    "incident_type_count.show()\n",
    "incident_type_count.count()"
   ]
  }
 ],
 "metadata": {
  "kernelspec": {
   "display_name": "Python 3 (ipykernel)",
   "language": "python",
   "name": "python3"
  },
  "language_info": {
   "codemirror_mode": {
    "name": "ipython",
    "version": 3
   },
   "file_extension": ".py",
   "mimetype": "text/x-python",
   "name": "python",
   "nbconvert_exporter": "python",
   "pygments_lexer": "ipython3",
   "version": "3.9.12"
  },
  "vscode": {
   "interpreter": {
    "hash": "b9c0864c2c82c846553bd2c7001efc514f6abb49eba1568752f97689e9c7c0e4"
   }
  }
 },
 "nbformat": 4,
 "nbformat_minor": 2
}
